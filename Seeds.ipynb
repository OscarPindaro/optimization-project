{
 "cells": [
  {
   "cell_type": "markdown",
   "id": "68ddc090",
   "metadata": {},
   "source": [
    "# Thyroid Dataset\n",
    "## Preprocessing"
   ]
  },
  {
   "cell_type": "code",
   "execution_count": 1,
   "id": "2b211819",
   "metadata": {},
   "outputs": [],
   "source": [
    "import os\n",
    "\n",
    "import numpy as np\n",
    "import pandas as pd\n",
    "from sklearn import preprocessing\n",
    "from sklearn.cluster import KMeans, SpectralClustering, AgglomerativeClustering, Birch\n",
    "from sklearn.metrics import completeness_score, homogeneity_score, balanced_accuracy_score, precision_score\n",
    "from sklearn.preprocessing import StandardScaler,MinMaxScaler, MaxAbsScaler\n",
    "from sklearn.model_selection import train_test_split\n",
    "import matplotlib.pyplot as plt\n",
    "from src.ORCTModel import ORCTModel, predicted_lab, accuracy\n",
    "from src.cluster import HierarchicalLogisticRegression, best_leaf_assignment\n",
    "\n",
    "import operator\n",
    "from pyomo.environ import *\n",
    "from pyomo.opt import SolverFactory"
   ]
  },
  {
   "cell_type": "code",
   "execution_count": 2,
   "id": "39c61774",
   "metadata": {},
   "outputs": [],
   "source": [
    "SEED = 1234\n",
    "name = \"seeds_data.csv\"\n",
    "DATASET_PATH = os.path.join(\"datasets\", name)\n",
    "df = pd.read_csv(DATASET_PATH, delimiter=\";\", header=0)\n",
    "columns = list(df.columns)\n",
    "X = df[columns[:-1]]\n",
    "y = df[columns[-1]]\n",
    "feature_names = columns[:-1]"
   ]
  },
  {
   "cell_type": "code",
   "execution_count": 3,
   "id": "8d0fe97b",
   "metadata": {},
   "outputs": [
    {
     "name": "stdout",
     "output_type": "stream",
     "text": [
      "Number of rows: 210\n",
      "Shape: (210, 8)\n",
      "The are 8 columns\n",
      "\n",
      "Distinct values for 'Classes' column\n",
      "1    70\n",
      "2    70\n",
      "3    70\n",
      "Name: Classes, dtype: int64\n",
      "\n"
     ]
    }
   ],
   "source": [
    "print(\"Number of rows: {}\\nShape: {}\".format(len(df), df.shape))\n",
    "print(\"The are {} columns\".format(len(df.columns)))\n",
    "print(\"\\nDistinct values for 'Classes' column\\n{}\\n\".format(df[\"Classes\"].value_counts()))"
   ]
  },
  {
   "cell_type": "code",
   "execution_count": 4,
   "id": "9851dd4c",
   "metadata": {
    "scrolled": true
   },
   "outputs": [
    {
     "data": {
      "image/png": "[encoded data removed]",
      "text/plain": [
       "<Figure size 432x288 with 1 Axes>"
      ]
     },
     "metadata": {
      "needs_background": "light"
     },
     "output_type": "display_data"
    }
   ],
   "source": [
    "vals = y.unique()\n",
    "vals.sort()\n",
    "heights = [len(y[y==x]) for x in vals ]\n",
    "vals = [str(x) for x in vals]\n",
    "plt.bar(vals, heights)\n",
    "plt.show()"
   ]
  },
  {
   "cell_type": "code",
   "execution_count": 5,
   "id": "2beb1768",
   "metadata": {},
   "outputs": [],
   "source": [
    "X_std = X.copy()\n",
    "X_std[feature_names] = MaxAbsScaler().fit_transform(X[feature_names])\n",
    "X_train, X_test, y_train, y_test = train_test_split(X_std, y, test_size=0.25, random_state=SEED)\n",
    "index_features = list(range(0, len(feature_names) - 1))\n",
    "index_instances = list(X_train.index)\n",
    "df_train = pd.concat([X_train, y_train], axis=1)\n",
    "classes = y.unique().tolist()\n",
    "classes.sort() # sorted    \n",
    "classes_en = [i for i in range(len(classes))]\n"
   ]
  },
  {
   "cell_type": "markdown",
   "id": "b99c8d45",
   "metadata": {},
   "source": [
    "Sample weigthing"
   ]
  },
  {
   "cell_type": "code",
   "execution_count": 6,
   "id": "f423c6bb",
   "metadata": {},
   "outputs": [],
   "source": [
    "occurences = [len(y_train[y_train==x]) for x in classes]\n",
    "total_samples = sum(occurences)\n",
    "sample_weight = np.zeros_like(y_train)\n",
    "for class_index, n_occurr in zip(classes, occurences):\n",
    "    sample_weight[y_train==class_index]=n_occurr\n",
    "sample_weight = sample_weight/total_samples"
   ]
  },
  {
   "cell_type": "markdown",
   "id": "c6b26b60",
   "metadata": {},
   "source": [
    "## Clustering"
   ]
  },
  {
   "cell_type": "code",
   "execution_count": 7,
   "id": "b85bf520",
   "metadata": {},
   "outputs": [],
   "source": [
    "n_leaves = 4\n",
    "n_clusters = n_leaves\n",
    "clustering_estimators = []\n",
    "params = dict(n_clusters=n_clusters, random_state=SEED)\n",
    "kmeans = KMeans(**params)\n",
    "clustering_estimators.append(kmeans)\n",
    "\n",
    "# Spectral clustering not used since it gave looped\n",
    "\n",
    "params = dict(n_clusters=n_clusters, linkage=\"single\")\n",
    "agglomerate = AgglomerativeClustering(**params)\n",
    "clustering_estimators.append(agglomerate)\n",
    "\n",
    "params = dict(n_clusters=n_clusters, linkage=\"ward\")\n",
    "agglomerate = AgglomerativeClustering(**params)\n",
    "clustering_estimators.append(agglomerate)\n",
    "\n",
    "params = dict(n_clusters=n_clusters, linkage=\"complete\")\n",
    "agglomerate = AgglomerativeClustering(**params)\n",
    "clustering_estimators.append(agglomerate)\n",
    "\n",
    "params = dict(n_clusters=n_clusters, linkage=\"average\")\n",
    "agglomerate = AgglomerativeClustering(**params)\n",
    "clustering_estimators.append(agglomerate)\n",
    "\n",
    "params = dict(n_clusters=n_clusters)\n",
    "birch = Birch(**params)\n",
    "clustering_estimators.append(birch)"
   ]
  },
  {
   "cell_type": "code",
   "execution_count": 8,
   "id": "383d5bf8",
   "metadata": {},
   "outputs": [
    {
     "name": "stdout",
     "output_type": "stream",
     "text": [
      "KMeans 0.6427024808867433\n",
      "AgglomerativeClustering 0.019151853725027493\n",
      "AgglomerativeClustering 0.7368006272341232\n",
      "AgglomerativeClustering 0.671784500773016\n",
      "AgglomerativeClustering 0.727858699526268\n",
      "Birch 0.0\n",
      "The best estimator is AgglomerativeClustering(n_clusters=4)\n"
     ]
    },
    {
     "name": "stderr",
     "output_type": "stream",
     "text": [
      "/home/oscarpindaro/miniconda3/envs/decision_trees/lib/python3.9/site-packages/sklearn/cluster/_birch.py:713: ConvergenceWarning: Number of subclusters found (1) by BIRCH is less than (4). Decrease the threshold.\n",
      "  warnings.warn(\n",
      "/home/oscarpindaro/miniconda3/envs/decision_trees/lib/python3.9/site-packages/sklearn/base.py:445: UserWarning: X does not have valid feature names, but Birch was fitted with feature names\n",
      "  warnings.warn(\n"
     ]
    }
   ],
   "source": [
    "from src.cluster import find_best_estimator\n",
    "\n",
    "for i in range(len(clustering_estimators)):\n",
    "    try:\n",
    "        clustering_estimators[i] = clustering_estimators[i].fit(X_train, sample_weight=sample_weight.transpose())\n",
    "    except:\n",
    "        clustering_estimators[i] = clustering_estimators[i].fit(X_train)\n",
    "\n",
    "for estimator in clustering_estimators:\n",
    "    print(estimator.__class__.__name__, homogeneity_score(y_train, estimator.labels_))\n",
    "    \n",
    "best_estimator = find_best_estimator(clustering_estimators, homogeneity_score, y_train)\n",
    "print(\"The best estimator is {}\".format(best_estimator))"
   ]
  },
  {
   "cell_type": "markdown",
   "id": "95bac9d9",
   "metadata": {},
   "source": [
    "## Leaves assignment"
   ]
  },
  {
   "cell_type": "code",
   "execution_count": 9,
   "id": "27467e4f",
   "metadata": {},
   "outputs": [
    {
     "name": "stdout",
     "output_type": "stream",
     "text": [
      "For the estimator KMeans, the assignment [0, 2, 1, 3] has a score of 0.7499565787226723\n",
      "For the estimator AgglomerativeClustering, the assignment [0, 1, 2, 3] has a score of 0.08302602032067631\n",
      "For the estimator AgglomerativeClustering, the assignment [0, 2, 1, 3] has a score of 0.7809720000946053\n",
      "For the estimator AgglomerativeClustering, the assignment [0, 2, 1, 3] has a score of 0.7232749255246992\n",
      "For the estimator AgglomerativeClustering, the assignment [0, 3, 1, 2] has a score of 0.8051919914849429\n",
      "For the estimator Birch, the assignment [0, 3, 1, 2] has a score of 1.0\n"
     ]
    }
   ],
   "source": [
    "from src.cluster import best_leaf_assignment\n",
    "for estimator in clustering_estimators:\n",
    "    assignment, score = best_leaf_assignment(n_leaves=n_leaves, estimated_labels=estimator.labels_, \n",
    "                                      true_labels=y_train, metric=completeness_score)\n",
    "    print(\"For the estimator {}, the assignment {} has a score of {}\".format(estimator.__class__.__name__,\n",
    "                                                                             assignment, score))"
   ]
  },
  {
   "cell_type": "markdown",
   "id": "388e710b",
   "metadata": {},
   "source": [
    "## Parameters Initialization"
   ]
  },
  {
   "cell_type": "code",
   "execution_count": 10,
   "id": "b72a0a61",
   "metadata": {},
   "outputs": [],
   "source": [
    "from src.cluster import HierarchicalLogisticRegression\n",
    "HLR = HierarchicalLogisticRegression(n_classes=len(np.unique(y_train)), n_leaves=n_leaves, prediction_type=\"deterministic\", random_state=0,\n",
    "                                     logistic_params={\"class_weight\": \"balanced\"})"
   ]
  },
  {
   "cell_type": "code",
   "execution_count": 11,
   "id": "a63a92e3",
   "metadata": {},
   "outputs": [
    {
     "name": "stdout",
     "output_type": "stream",
     "text": [
      "KMeans(n_clusters=4, random_state=1234) accuracy:0.07547169811320754\n",
      "AgglomerativeClustering(linkage='single', n_clusters=4) accuracy:0.1320754716981132\n",
      "AgglomerativeClustering(n_clusters=4) accuracy:0.07547169811320754\n",
      "AgglomerativeClustering(linkage='complete', n_clusters=4) accuracy:0.07547169811320754\n",
      "AgglomerativeClustering(linkage='average', n_clusters=4) accuracy:0.2830188679245283\n",
      "Birch(n_clusters=4) accuracy:0.0\n",
      "\n",
      "The best was AgglomerativeClustering(linkage='average', n_clusters=4) with score 0.2830188679245283\n"
     ]
    }
   ],
   "source": [
    "best = clustering_estimators[0]\n",
    "best_accuracy = 0\n",
    "i = 0\n",
    "for estimator in clustering_estimators:\n",
    "    \"\"\"\n",
    "    print(estimator)\n",
    "    print(np.unique(estimator.labels_))\n",
    "    for un in np.unique(estimator.labels_):\n",
    "        print(len(estimator.labels_[estimator.labels_==un]))\n",
    "    \"\"\"\n",
    "    assignment, score = best_leaf_assignment(n_leaves=n_leaves, estimated_labels=estimator.labels_, \n",
    "                                  true_labels=y_train, metric=completeness_score)\n",
    "    HLR = HLR.fit(X_train.to_numpy(), y_train, cluster_labels=estimator.labels_, leaves_assignment=assignment)\n",
    "    accuracy = HLR.score(X_test.to_numpy(), y_test)\n",
    "    print(\"{} accuracy:{}\".format(estimator, accuracy))\n",
    "    if accuracy > best_accuracy:\n",
    "        best = clustering_estimators[i]\n",
    "        best_accuracy = accuracy\n",
    "    i +=1\n",
    "print(\"\\nThe best was {} with score {}\".format(best, best_accuracy))"
   ]
  },
  {
   "cell_type": "code",
   "execution_count": 12,
   "id": "d7d749ec",
   "metadata": {},
   "outputs": [
    {
     "name": "stdout",
     "output_type": "stream",
     "text": [
      "The true labelling has assignment [0, 3, 1, 2] with score 1.0000000000000009\n",
      "Accuracy using true labellling: 0.5471698113207547\n"
     ]
    }
   ],
   "source": [
    "assignment, score = best_leaf_assignment(n_leaves=n_leaves, estimated_labels=y_train, \n",
    "                                      true_labels=y_train, metric=completeness_score)\n",
    "print(\"The true labelling has assignment {} with score {}\".format(assignment, score))\n",
    "HLR = HierarchicalLogisticRegression(n_classes=len(np.unique(y_train)),\n",
    "                                     n_leaves=n_leaves, prediction_type=\"deterministic\",\n",
    "                                     random_state=0)\n",
    "HLR = HLR.fit(X_train.to_numpy(), y_train, cluster_labels=y_train, leaves_assignment=assignment)\n",
    "accuracy = HLR.score(X_test.to_numpy(), y_test)\n",
    "print(\"Accuracy using true labellling: {}\".format(accuracy))"
   ]
  },
  {
   "cell_type": "markdown",
   "id": "15286a85",
   "metadata": {},
   "source": [
    "In this notebook there is the only case in which a clustrering algorithm performs better than the true labelling."
   ]
  },
  {
   "cell_type": "markdown",
   "id": "de817cf2",
   "metadata": {},
   "source": [
    "## ORCT model"
   ]
  },
  {
   "cell_type": "code",
   "execution_count": 13,
   "id": "e6067ee9",
   "metadata": {},
   "outputs": [],
   "source": [
    "def B_in_NR(model, i):\n",
    "    if i == 4:\n",
    "        return []\n",
    "    elif i == 5:\n",
    "        return [2]\n",
    "    elif i == 6:\n",
    "        return [1]\n",
    "    elif i == 7:\n",
    "        return [1, 3]\n",
    "\n",
    "\n",
    "def B_in_NL(model, i):\n",
    "    if i == 4:\n",
    "        return [1, 2]\n",
    "    elif i == 5:\n",
    "        return [1]\n",
    "    elif i == 6:\n",
    "        return [3]\n",
    "    elif i == 7:\n",
    "        return []\n",
    "\n",
    "\n",
    "def I_k(model, i):\n",
    "    if i == 0:\n",
    "        return I_in_k[0]\n",
    "    elif i == 1:\n",
    "        return I_in_k[1]\n",
    "    elif i == 2:\n",
    "        return I_in_k[2]"
   ]
  },
  {
   "cell_type": "code",
   "execution_count": 14,
   "id": "6bcc38be",
   "metadata": {},
   "outputs": [],
   "source": [
    "BF_in_NL_R = {4: [], 5: [2], 6: [1], 7: [1, 3]}\n",
    "BF_in_NL_L = {4: [1, 2], 5: [1], 6: [3], 7: []}\n",
    "I_in_k = {i: list(df_train[df_train['Classes'] == i].index) for i in range(len(classes))}\n",
    "my_W = {(i, j): 0.5 if i != j else 0 for i in classes_en for j in classes_en}\n",
    "index_instances = list(X_train.index)\n",
    "my_x = {(i, j): df_train.loc[i][j] for i in index_instances for j in index_features}"
   ]
  },
  {
   "cell_type": "code",
   "execution_count": 15,
   "id": "f49e0056",
   "metadata": {},
   "outputs": [],
   "source": [
    "a = np.stack(HLR.coef_).transpose()\n",
    "mu = np.stack(HLR.intercept_)\n",
    "C = HLR.leaf_class_probs_.transpose()\n",
    "# j+1 due to the convention for the branch nodes (numbered from 1)\n",
    "# it's in the form\n",
    "# (0,1) (0,2) (0,3)\n",
    "# (1,1) (1,2) (1,3) and so one\n",
    "init_a = {(i, j + 1): a[i, j] for i in range(len(index_features)) for j in range(3)}\n",
    "# in the form (1) (2) (3)\n",
    "init_mu = {(i + 1): mu[i] for i in range(3)}\n",
    "# shape (n_classes, n_leaves), and leaves are the last 4 numbers of 2^h -1\n",
    "# (0,4) (0,5) (0,6) (0,7)\n",
    "# (1,4) ---\n",
    "init_c = {(i, j + 4): C[i, j] for i in classes_en for j in range(4)}"
   ]
  },
  {
   "cell_type": "code",
   "execution_count": 16,
   "id": "e6fe2de8",
   "metadata": {},
   "outputs": [
    {
     "name": "stdout",
     "output_type": "stream",
     "text": [
      "WARNING: Initializing ordered Set I with a fundamentally unordered data source\n",
      "    (type: set).  This WILL potentially lead to nondeterministic behavior in\n",
      "    Pyomo\n",
      "WARNING: Initializing ordered Set N_B with a fundamentally unordered data\n",
      "    source (type: set).  This WILL potentially lead to nondeterministic\n",
      "    behavior in Pyomo\n",
      "ERROR: Rule failed for Param 'x' with index (146, 0): KeyError: \"Index '(146,\n",
      "    0)' is not valid for indexed component 'x'\"\n",
      "ERROR: Constructing component 'x' from data=None failed: KeyError: \"Index\n",
      "    '(146, 0)' is not valid for indexed component 'x'\"\n"
     ]
    },
    {
     "ename": "KeyError",
     "evalue": "\"Index '(146, 0)' is not valid for indexed component 'x'\"",
     "output_type": "error",
     "traceback": [
      "\u001b[0;31m---------------------------------------------------------------------------\u001b[0m",
      "\u001b[0;31mKeyError\u001b[0m                                  Traceback (most recent call last)",
      "\u001b[0;32m/tmp/ipykernel_5813/3073892741.py\u001b[0m in \u001b[0;36m<module>\u001b[0;34m\u001b[0m\n\u001b[0;32m----> 1\u001b[0;31m model = ORCTModel(I_in_k=I_in_k, I_k_fun=I_k, index_features=index_features, BF_in_NL_R=BF_in_NL_R,\n\u001b[0m\u001b[1;32m      2\u001b[0m                       \u001b[0mB_in_NR\u001b[0m\u001b[0;34m=\u001b[0m\u001b[0mB_in_NR\u001b[0m\u001b[0;34m,\u001b[0m \u001b[0mB_in_NL\u001b[0m\u001b[0;34m=\u001b[0m\u001b[0mB_in_NL\u001b[0m\u001b[0;34m,\u001b[0m \u001b[0merror_weights\u001b[0m\u001b[0;34m=\u001b[0m\u001b[0mmy_W\u001b[0m\u001b[0;34m,\u001b[0m \u001b[0mx_train\u001b[0m\u001b[0;34m=\u001b[0m\u001b[0mmy_x\u001b[0m\u001b[0;34m,\u001b[0m \u001b[0minit_a\u001b[0m\u001b[0;34m=\u001b[0m\u001b[0minit_a\u001b[0m\u001b[0;34m,\u001b[0m\u001b[0;34m\u001b[0m\u001b[0;34m\u001b[0m\u001b[0m\n\u001b[1;32m      3\u001b[0m                       init_mu=init_mu, init_C=init_c)\n",
      "\u001b[0;32m~/git_projects/optimization-project/src/ORCTModel.py\u001b[0m in \u001b[0;36m__init__\u001b[0;34m(self, I_in_k, I_k_fun, index_features, BF_in_NL_R, B_in_NR, B_in_NL, error_weights, x_train, init_a, init_mu, init_C)\u001b[0m\n\u001b[1;32m     34\u001b[0m         \u001b[0;31m# Value for the instance i-th of the feature j-th\u001b[0m\u001b[0;34m\u001b[0m\u001b[0;34m\u001b[0m\u001b[0m\n\u001b[1;32m     35\u001b[0m         \u001b[0;31m# model.x = Param(model.I, model.f_s, within=PercentFraction, initialize=x_train)\u001b[0m\u001b[0;34m\u001b[0m\u001b[0;34m\u001b[0m\u001b[0m\n\u001b[0;32m---> 36\u001b[0;31m         \u001b[0mmodel\u001b[0m\u001b[0;34m.\u001b[0m\u001b[0mx\u001b[0m \u001b[0;34m=\u001b[0m \u001b[0mParam\u001b[0m\u001b[0;34m(\u001b[0m\u001b[0mmodel\u001b[0m\u001b[0;34m.\u001b[0m\u001b[0mI\u001b[0m\u001b[0;34m,\u001b[0m \u001b[0mmodel\u001b[0m\u001b[0;34m.\u001b[0m\u001b[0mf_s\u001b[0m\u001b[0;34m,\u001b[0m \u001b[0minitialize\u001b[0m\u001b[0;34m=\u001b[0m\u001b[0mx_train\u001b[0m\u001b[0;34m)\u001b[0m\u001b[0;34m\u001b[0m\u001b[0;34m\u001b[0m\u001b[0m\n\u001b[0m\u001b[1;32m     37\u001b[0m \u001b[0;34m\u001b[0m\u001b[0m\n\u001b[1;32m     38\u001b[0m         \u001b[0;31m# Value for the lambda of global generalization\u001b[0m\u001b[0;34m\u001b[0m\u001b[0;34m\u001b[0m\u001b[0m\n",
      "\u001b[0;32m~/miniconda3/envs/decision_trees/lib/python3.9/site-packages/pyomo/core/base/block.py\u001b[0m in \u001b[0;36m__setattr__\u001b[0;34m(self, name, val)\u001b[0m\n\u001b[1;32m    539\u001b[0m                 \u001b[0;31m# Pyomo components are added with the add_component method.\u001b[0m\u001b[0;34m\u001b[0m\u001b[0;34m\u001b[0m\u001b[0m\n\u001b[1;32m    540\u001b[0m                 \u001b[0;31m#\u001b[0m\u001b[0;34m\u001b[0m\u001b[0;34m\u001b[0m\u001b[0m\n\u001b[0;32m--> 541\u001b[0;31m                 \u001b[0mself\u001b[0m\u001b[0;34m.\u001b[0m\u001b[0madd_component\u001b[0m\u001b[0;34m(\u001b[0m\u001b[0mname\u001b[0m\u001b[0;34m,\u001b[0m \u001b[0mval\u001b[0m\u001b[0;34m)\u001b[0m\u001b[0;34m\u001b[0m\u001b[0;34m\u001b[0m\u001b[0m\n\u001b[0m\u001b[1;32m    542\u001b[0m             \u001b[0;32melse\u001b[0m\u001b[0;34m:\u001b[0m\u001b[0;34m\u001b[0m\u001b[0;34m\u001b[0m\u001b[0m\n\u001b[1;32m    543\u001b[0m                 \u001b[0;31m#\u001b[0m\u001b[0;34m\u001b[0m\u001b[0;34m\u001b[0m\u001b[0m\n",
      "\u001b[0;32m~/miniconda3/envs/decision_trees/lib/python3.9/site-packages/pyomo/core/base/block.py\u001b[0m in \u001b[0;36madd_component\u001b[0;34m(self, name, val)\u001b[0m\n\u001b[1;32m   1101\u001b[0m                              _blockName, str(data))\n\u001b[1;32m   1102\u001b[0m             \u001b[0;32mtry\u001b[0m\u001b[0;34m:\u001b[0m\u001b[0;34m\u001b[0m\u001b[0;34m\u001b[0m\u001b[0m\n\u001b[0;32m-> 1103\u001b[0;31m                 \u001b[0mval\u001b[0m\u001b[0;34m.\u001b[0m\u001b[0mconstruct\u001b[0m\u001b[0;34m(\u001b[0m\u001b[0mdata\u001b[0m\u001b[0;34m)\u001b[0m\u001b[0;34m\u001b[0m\u001b[0;34m\u001b[0m\u001b[0m\n\u001b[0m\u001b[1;32m   1104\u001b[0m             \u001b[0;32mexcept\u001b[0m\u001b[0;34m:\u001b[0m\u001b[0;34m\u001b[0m\u001b[0;34m\u001b[0m\u001b[0m\n\u001b[1;32m   1105\u001b[0m                 \u001b[0merr\u001b[0m \u001b[0;34m=\u001b[0m \u001b[0msys\u001b[0m\u001b[0;34m.\u001b[0m\u001b[0mexc_info\u001b[0m\u001b[0;34m(\u001b[0m\u001b[0;34m)\u001b[0m\u001b[0;34m[\u001b[0m\u001b[0;36m1\u001b[0m\u001b[0;34m]\u001b[0m\u001b[0;34m\u001b[0m\u001b[0;34m\u001b[0m\u001b[0m\n",
      "\u001b[0;32m~/miniconda3/envs/decision_trees/lib/python3.9/site-packages/pyomo/core/base/param.py\u001b[0m in \u001b[0;36mconstruct\u001b[0;34m(self, data)\u001b[0m\n\u001b[1;32m    729\u001b[0m             \u001b[0;31m# Step #1: initialize data from rule value\u001b[0m\u001b[0;34m\u001b[0m\u001b[0;34m\u001b[0m\u001b[0m\n\u001b[1;32m    730\u001b[0m             \u001b[0;31m#\u001b[0m\u001b[0;34m\u001b[0m\u001b[0;34m\u001b[0m\u001b[0m\n\u001b[0;32m--> 731\u001b[0;31m             \u001b[0mself\u001b[0m\u001b[0;34m.\u001b[0m\u001b[0m_construct_from_rule_using_setitem\u001b[0m\u001b[0;34m(\u001b[0m\u001b[0;34m)\u001b[0m\u001b[0;34m\u001b[0m\u001b[0;34m\u001b[0m\u001b[0m\n\u001b[0m\u001b[1;32m    732\u001b[0m             \u001b[0;31m#\u001b[0m\u001b[0;34m\u001b[0m\u001b[0;34m\u001b[0m\u001b[0m\n\u001b[1;32m    733\u001b[0m             \u001b[0;31m# Step #2: allow any user-specified (external) data to override\u001b[0m\u001b[0;34m\u001b[0m\u001b[0;34m\u001b[0m\u001b[0m\n",
      "\u001b[0;32m~/miniconda3/envs/decision_trees/lib/python3.9/site-packages/pyomo/core/base/indexed_component.py\u001b[0m in \u001b[0;36m_construct_from_rule_using_setitem\u001b[0;34m(self)\u001b[0m\n\u001b[1;32m    692\u001b[0m                 \u001b[0;31m# The index is coming in externally; we need to validate it\u001b[0m\u001b[0;34m\u001b[0m\u001b[0;34m\u001b[0m\u001b[0m\n\u001b[1;32m    693\u001b[0m                 \u001b[0;32mfor\u001b[0m \u001b[0mindex\u001b[0m \u001b[0;32min\u001b[0m \u001b[0mrule\u001b[0m\u001b[0;34m.\u001b[0m\u001b[0mindices\u001b[0m\u001b[0;34m(\u001b[0m\u001b[0;34m)\u001b[0m\u001b[0;34m:\u001b[0m\u001b[0;34m\u001b[0m\u001b[0;34m\u001b[0m\u001b[0m\n\u001b[0;32m--> 694\u001b[0;31m                     \u001b[0mself\u001b[0m\u001b[0;34m[\u001b[0m\u001b[0mindex\u001b[0m\u001b[0;34m]\u001b[0m \u001b[0;34m=\u001b[0m \u001b[0mrule\u001b[0m\u001b[0;34m(\u001b[0m\u001b[0mblock\u001b[0m\u001b[0;34m,\u001b[0m \u001b[0mindex\u001b[0m\u001b[0;34m)\u001b[0m\u001b[0;34m\u001b[0m\u001b[0;34m\u001b[0m\u001b[0m\n\u001b[0m\u001b[1;32m    695\u001b[0m             \u001b[0;32melif\u001b[0m \u001b[0;32mnot\u001b[0m \u001b[0mself\u001b[0m\u001b[0;34m.\u001b[0m\u001b[0mindex_set\u001b[0m\u001b[0;34m(\u001b[0m\u001b[0;34m)\u001b[0m\u001b[0;34m.\u001b[0m\u001b[0misfinite\u001b[0m\u001b[0;34m(\u001b[0m\u001b[0;34m)\u001b[0m\u001b[0;34m:\u001b[0m\u001b[0;34m\u001b[0m\u001b[0;34m\u001b[0m\u001b[0m\n\u001b[1;32m    696\u001b[0m                 \u001b[0;31m# If the index is not finite, then we cannot iterate\u001b[0m\u001b[0;34m\u001b[0m\u001b[0;34m\u001b[0m\u001b[0m\n",
      "\u001b[0;32m~/miniconda3/envs/decision_trees/lib/python3.9/site-packages/pyomo/core/base/indexed_component.py\u001b[0m in \u001b[0;36m__setitem__\u001b[0;34m(self, index, val)\u001b[0m\n\u001b[1;32m    595\u001b[0m             \u001b[0;31m# _processUnhashableIndex didn't return a slicer)\u001b[0m\u001b[0;34m\u001b[0m\u001b[0;34m\u001b[0m\u001b[0m\n\u001b[1;32m    596\u001b[0m             \u001b[0;32mif\u001b[0m \u001b[0mindex\u001b[0m\u001b[0;34m.\u001b[0m\u001b[0m__class__\u001b[0m \u001b[0;32mis\u001b[0m \u001b[0;32mnot\u001b[0m \u001b[0mIndexedComponent_slice\u001b[0m\u001b[0;34m:\u001b[0m\u001b[0;34m\u001b[0m\u001b[0;34m\u001b[0m\u001b[0m\n\u001b[0;32m--> 597\u001b[0;31m                 \u001b[0mindex\u001b[0m \u001b[0;34m=\u001b[0m \u001b[0mself\u001b[0m\u001b[0;34m.\u001b[0m\u001b[0m_validate_index\u001b[0m\u001b[0;34m(\u001b[0m\u001b[0mindex\u001b[0m\u001b[0;34m)\u001b[0m\u001b[0;34m\u001b[0m\u001b[0;34m\u001b[0m\u001b[0m\n\u001b[0m\u001b[1;32m    598\u001b[0m         \u001b[0;32melse\u001b[0m\u001b[0;34m:\u001b[0m\u001b[0;34m\u001b[0m\u001b[0;34m\u001b[0m\u001b[0m\n\u001b[1;32m    599\u001b[0m             \u001b[0;32mreturn\u001b[0m \u001b[0mself\u001b[0m\u001b[0;34m.\u001b[0m\u001b[0m_setitem_impl\u001b[0m\u001b[0;34m(\u001b[0m\u001b[0mindex\u001b[0m\u001b[0;34m,\u001b[0m \u001b[0mobj\u001b[0m\u001b[0;34m,\u001b[0m \u001b[0mval\u001b[0m\u001b[0;34m)\u001b[0m\u001b[0;34m\u001b[0m\u001b[0;34m\u001b[0m\u001b[0m\n",
      "\u001b[0;32m~/miniconda3/envs/decision_trees/lib/python3.9/site-packages/pyomo/core/base/indexed_component.py\u001b[0m in \u001b[0;36m_validate_index\u001b[0;34m(self, idx)\u001b[0m\n\u001b[1;32m    776\u001b[0m         \u001b[0;31m# Raise an exception\u001b[0m\u001b[0;34m\u001b[0m\u001b[0;34m\u001b[0m\u001b[0m\n\u001b[1;32m    777\u001b[0m         \u001b[0;31m#\u001b[0m\u001b[0;34m\u001b[0m\u001b[0;34m\u001b[0m\u001b[0m\n\u001b[0;32m--> 778\u001b[0;31m         raise KeyError(\n\u001b[0m\u001b[1;32m    779\u001b[0m             \u001b[0;34m\"Index '%s' is not valid for indexed component '%s'\"\u001b[0m\u001b[0;34m\u001b[0m\u001b[0;34m\u001b[0m\u001b[0m\n\u001b[1;32m    780\u001b[0m             % ( idx, self.name, ))\n",
      "\u001b[0;31mKeyError\u001b[0m: \"Index '(146, 0)' is not valid for indexed component 'x'\""
     ]
    }
   ],
   "source": [
    "model = ORCTModel(I_in_k=I_in_k, I_k_fun=I_k, index_features=index_features, BF_in_NL_R=BF_in_NL_R,\n",
    "                      B_in_NR=B_in_NR, B_in_NL=B_in_NL, error_weights=my_W, x_train=my_x, init_a=init_a,\n",
    "                      init_mu=init_mu, init_C=init_c)\n"
   ]
  },
  {
   "cell_type": "code",
   "execution_count": null,
   "id": "d21e2423",
   "metadata": {},
   "outputs": [],
   "source": [
    "ipopt_path = \"~/miniconda3/envs/decision_trees/bin/ipopt\"\n",
    "model.solve(ipopt_path)"
   ]
  },
  {
   "cell_type": "code",
   "execution_count": null,
   "id": "ffe8a342",
   "metadata": {},
   "outputs": [],
   "source": [
    "[(i,j) for i in index_instances for j in index_features]"
   ]
  },
  {
   "cell_type": "code",
   "execution_count": null,
   "id": "aac3a646",
   "metadata": {},
   "outputs": [],
   "source": [
    "print(index_instances)"
   ]
  },
  {
   "cell_type": "code",
   "execution_count": null,
   "id": "b3ddc40b",
   "metadata": {},
   "outputs": [],
   "source": []
  }
 ],
 "metadata": {
  "kernelspec": {
   "display_name": "decision_trees",
   "language": "python",
   "name": "decision_trees"
  },
  "language_info": {
   "codemirror_mode": {
    "name": "ipython",
    "version": 3
   },
   "file_extension": ".py",
   "mimetype": "text/x-python",
   "name": "python",
   "nbconvert_exporter": "python",
   "pygments_lexer": "ipython3",
   "version": "3.9.7"
  }
 },
 "nbformat": 4,
 "nbformat_minor": 5
}
