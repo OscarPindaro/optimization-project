{
 "cells": [
  {
   "cell_type": "markdown",
   "metadata": {
    "collapsed": true,
    "pycharm": {
     "name": "#%% md\n"
    }
   },
   "source": [
    "# CAR DATASET\n",
    "This dataset contains some information about cars. The problem is a multiclass classification, with 4 classes. Attributes are all expressed as categorical values, but there exists some kind of order relationship between each value of the dataset"
   ]
  },
  {
   "cell_type": "code",
   "execution_count": 1,
   "metadata": {
    "pycharm": {
     "name": "#%%\n"
    }
   },
   "outputs": [],
   "source": [
    "import pandas as pd\n",
    "import os\n",
    "from sklearn import preprocessing\n",
    "import seaborn as sns\n",
    "import matplotlib.pyplot as plt"
   ]
  },
  {
   "cell_type": "code",
   "execution_count": 2,
   "metadata": {
    "pycharm": {
     "name": "#%%\n"
    }
   },
   "outputs": [],
   "source": [
    "pd.set_option(\"display.precision\", 2)\n",
    "pd.set_option(\"display.max.columns\", None)"
   ]
  },
  {
   "cell_type": "code",
   "execution_count": 3,
   "metadata": {
    "pycharm": {
     "name": "#%%\n"
    }
   },
   "outputs": [],
   "source": [
    "DATASET_PATH = os.path.join(\"datasets\", \"car.csv\")\n",
    "names = [\"buying\", \"maint\", \"doors\", \"persons\", \"lug_boot\", \"safety\", \"Classes\"]\n",
    "df = pd.read_csv(DATASET_PATH,delimiter=\";\", header=0, names=names)\n",
    "df = df.convert_dtypes()\n",
    "TARGET_INDEX = df.shape[1] -1"
   ]
  },
  {
   "cell_type": "code",
   "execution_count": 4,
   "metadata": {},
   "outputs": [
    {
     "name": "stdout",
     "output_type": "stream",
     "text": [
      "Number of rows: 1728\n",
      "Shape: (1728, 7)\n",
      "The columns are ['buying', 'maint', 'doors', 'persons', 'lug_boot', 'safety', 'Classes']\n"
     ]
    }
   ],
   "source": [
    "print(\"Number of rows: {}\\nShape: {}\".format(len(df), df.shape))\n",
    "print(\"The columns are {}\".format(list(df.columns)))"
   ]
  },
  {
   "cell_type": "code",
   "execution_count": 5,
   "metadata": {},
   "outputs": [
    {
     "name": "stdout",
     "output_type": "stream",
     "text": [
      "vhigh    432\n",
      "high     432\n",
      "med      432\n",
      "low      432\n",
      "Name: buying, dtype: Int64\n",
      "\n",
      "vhigh    432\n",
      "high     432\n",
      "med      432\n",
      "low      432\n",
      "Name: maint, dtype: Int64\n",
      "\n",
      "2        432\n",
      "3        432\n",
      "4        432\n",
      "5more    432\n",
      "Name: doors, dtype: Int64\n",
      "\n",
      "2       576\n",
      "4       576\n",
      "more    576\n",
      "Name: persons, dtype: Int64\n",
      "\n",
      "small    576\n",
      "med      576\n",
      "big      576\n",
      "Name: lug_boot, dtype: Int64\n",
      "\n",
      "low     576\n",
      "med     576\n",
      "high    576\n",
      "Name: safety, dtype: Int64\n",
      "\n",
      "unacc    1210\n",
      "acc       384\n",
      "good       69\n",
      "vgood      65\n",
      "Name: Classes, dtype: Int64\n",
      "\n"
     ]
    }
   ],
   "source": [
    "for column in df.columns:\n",
    "    column_df = df[column]\n",
    "    print(\"{}\\n\".format(column_df.value_counts()))"
   ]
  },
  {
   "cell_type": "markdown",
   "metadata": {},
   "source": [
    "The values attributes of the dataset are well balanced, while the classes are heavily unbalanced. It will be very hard to find a good classifier for *good* and *vgood* values, since they are just 69. However, with randomized trees, we can inforce a division and force every leaf to contain a different class.\n"
   ]
  },
  {
   "cell_type": "markdown",
   "metadata": {},
   "source": [
    "## Dataset manipulation\n",
    "The values of every attribute is categorical, however a logical ordering can be found. For example, low is lower than mid, which is lower than high. This can be enforced using a LabelEncoder."
   ]
  },
  {
   "cell_type": "code",
   "execution_count": 6,
   "metadata": {},
   "outputs": [],
   "source": [
    "# dictionary converting ordinal categories to values\n",
    "cost_dict = {\"low\":0, \"med\":1, \"high\":2, \"vhigh\":3}\n",
    "doors_dict = {\"2\":2, \"3\":3, \"4\":4, \"5more\":5}\n",
    "persons_dict = {\"2\":2, \"4\":4, \"more\":5}\n",
    "dimension_dict = {\"small\":0, \"med\":1, \"big\":2}\n",
    "#buying\n",
    "df[\"buying\"] = df[\"buying\"].apply(lambda x : cost_dict[x])\n",
    "df[\"maint\"] = df[\"maint\"].apply(lambda x: cost_dict[x])\n",
    "df[\"doors\"] = df[\"doors\"].apply(lambda x: doors_dict[x])\n",
    "df[\"persons\"] = df[\"persons\"].apply(lambda x: persons_dict[x])\n",
    "df[\"lug_boot\"] = df[\"lug_boot\"].apply(lambda x: dimension_dict[x])\n",
    "df[\"safety\"] = df[\"safety\"].apply(lambda x: cost_dict[x])\n",
    "classes_encoder = preprocessing.LabelEncoder().fit(df[\"Classes\"])\n",
    "df[\"Classes\"] = classes_encoder.transform(df[\"Classes\"])"
   ]
  },
  {
   "cell_type": "code",
   "execution_count": 7,
   "metadata": {},
   "outputs": [
    {
     "data": {
      "text/plain": [
       "'g = sns.PairGrid(df, hue=\"Classes\")\\ng.map_diag(sns.histplot)\\ng.map_offdiag(sns.scatterplot)\\ng.add_legend()'"
      ]
     },
     "execution_count": 7,
     "metadata": {},
     "output_type": "execute_result"
    }
   ],
   "source": [
    "\"\"\"g = sns.PairGrid(df, hue=\"Classes\")\n",
    "g.map_diag(sns.histplot)\n",
    "g.map_offdiag(sns.scatterplot)\n",
    "g.add_legend()\"\"\""
   ]
  },
  {
   "cell_type": "code",
   "execution_count": 8,
   "metadata": {},
   "outputs": [
    {
     "data": {
      "text/plain": [
       "<AxesSubplot:>"
      ]
     },
     "execution_count": 8,
     "metadata": {},
     "output_type": "execute_result"
    },
    {
     "data": {
      "image/png": "[encoded data removed]",
      "text/plain": [
       "<Figure size 432x288 with 1 Axes>"
      ]
     },
     "metadata": {
      "needs_background": "light"
     },
     "output_type": "display_data"
    }
   ],
   "source": [
    "df[\"Classes\"].value_counts().plot(kind=\"bar\")"
   ]
  },
  {
   "cell_type": "markdown",
   "metadata": {},
   "source": [
    "## Costruzione albero\n",
    "Since the number of classes is 4 and the number of leaves is 4, they can be directly assigned to the leaves of the tree. A naive version could assign randomly the leaves and see the performances. The idea is to l"
   ]
  },
  {
   "cell_type": "markdown",
   "metadata": {},
   "source": [
    "Prove per vedere come funziona il clustering"
   ]
  },
  {
   "cell_type": "code",
   "execution_count": 9,
   "metadata": {},
   "outputs": [],
   "source": [
    "from sklearn.cluster import KMeans, AgglomerativeClustering,SpectralClustering, Birch\n",
    "import numpy as np"
   ]
  },
  {
   "cell_type": "code",
   "execution_count": 10,
   "metadata": {},
   "outputs": [
    {
     "data": {
      "image/png": "[encoded data removed]",
      "text/plain": [
       "<Figure size 432x288 with 1 Axes>"
      ]
     },
     "metadata": {
      "needs_background": "light"
     },
     "output_type": "display_data"
    }
   ],
   "source": [
    "clustering_estimators = []\n",
    "SEED = 1234\n",
    "X = df[list(df.columns)[:-1]]\n",
    "y = df[\"Classes\"]\n",
    "params = dict(n_clusters=4, random_state=SEED)\n",
    "kmeans = KMeans(**params)\n",
    "kmeans = kmeans.fit(X, sample_weight=np.zeros(len(df)))\n",
    "plt.hist(kmeans.labels_)\n",
    "clustering_estimators.append(kmeans)"
   ]
  },
  {
   "cell_type": "code",
   "execution_count": 11,
   "metadata": {},
   "outputs": [
    {
     "name": "stdout",
     "output_type": "stream",
     "text": [
      "[2 2 2 ... 1 1 1]\n"
     ]
    },
    {
     "data": {
      "image/png": "[encoded data removed]",
      "text/plain": [
       "<Figure size 432x288 with 1 Axes>"
      ]
     },
     "metadata": {
      "needs_background": "light"
     },
     "output_type": "display_data"
    }
   ],
   "source": [
    "params = dict(n_clusters=4, random_state=SEED, assign_labels=\"discretize\", gamma=1)\n",
    "spectral = SpectralClustering(**params)\n",
    "spectral = spectral.fit(X)\n",
    "print(spectral.labels_)\n",
    "plt.hist(spectral.labels_)\n",
    "clustering_estimators.append(spectral)"
   ]
  },
  {
   "cell_type": "code",
   "execution_count": 12,
   "metadata": {},
   "outputs": [
    {
     "name": "stdout",
     "output_type": "stream",
     "text": [
      "[1 1 1 ... 0 3 2]\n",
      "1150\n"
     ]
    },
    {
     "data": {
      "image/png": "[encoded data removed]",
      "text/plain": [
       "<Figure size 432x288 with 1 Axes>"
      ]
     },
     "metadata": {
      "needs_background": "light"
     },
     "output_type": "display_data"
    }
   ],
   "source": [
    "params = dict(n_clusters=4, linkage=\"single\")\n",
    "agglomerate = AgglomerativeClustering(**params)\n",
    "agglomerate = agglomerate.fit(X)\n",
    "plt.hist(agglomerate.labels_)\n",
    "print(agglomerate.labels_)\n",
    "print(len(agglomerate.labels_[(agglomerate.labels_==0)]))\n",
    "clustering_estimators.append(agglomerate)"
   ]
  },
  {
   "cell_type": "code",
   "execution_count": 13,
   "metadata": {
    "scrolled": true
   },
   "outputs": [
    {
     "name": "stderr",
     "output_type": "stream",
     "text": [
      "/home/oscarpindaro/miniconda3/envs/decision_trees/lib/python3.9/site-packages/sklearn/base.py:445: UserWarning: X does not have valid feature names, but Birch was fitted with feature names\n",
      "  warnings.warn(\n"
     ]
    },
    {
     "data": {
      "image/png": "[encoded data removed]",
      "text/plain": [
       "<Figure size 432x288 with 1 Axes>"
      ]
     },
     "metadata": {
      "needs_background": "light"
     },
     "output_type": "display_data"
    }
   ],
   "source": [
    "params = dict(n_clusters=4)\n",
    "birch = Birch(**params)\n",
    "birch = birch.fit(X)\n",
    "plt.hist(birch.labels_)\n",
    "clustering_estimators.append(birch)"
   ]
  },
  {
   "cell_type": "markdown",
   "metadata": {},
   "source": [
    "## Evaluation"
   ]
  },
  {
   "cell_type": "code",
   "execution_count": 17,
   "metadata": {},
   "outputs": [
    {
     "ename": "ImportError",
     "evalue": "cannot import name 'recursive_best_completeness' from 'src.cluster' (/home/oscarpindaro/git_projects/optimization-project/src/cluster.py)",
     "output_type": "error",
     "traceback": [
      "\u001b[0;31m---------------------------------------------------------------------------\u001b[0m",
      "\u001b[0;31mImportError\u001b[0m                               Traceback (most recent call last)",
      "\u001b[0;32m/tmp/ipykernel_24302/1207400529.py\u001b[0m in \u001b[0;36m<module>\u001b[0;34m\u001b[0m\n\u001b[0;32m----> 1\u001b[0;31m \u001b[0;32mfrom\u001b[0m \u001b[0msrc\u001b[0m\u001b[0;34m.\u001b[0m\u001b[0mcluster\u001b[0m \u001b[0;32mimport\u001b[0m \u001b[0mfind_best_estimator\u001b[0m\u001b[0;34m,\u001b[0m \u001b[0mrecursive_best_completeness\u001b[0m\u001b[0;34m\u001b[0m\u001b[0;34m\u001b[0m\u001b[0m\n\u001b[0m",
      "\u001b[0;31mImportError\u001b[0m: cannot import name 'recursive_best_completeness' from 'src.cluster' (/home/oscarpindaro/git_projects/optimization-project/src/cluster.py)"
     ]
    }
   ],
   "source": [
    "from src.cluster import find_best_estimator, recursive_best_completeness"
   ]
  },
  {
   "cell_type": "code",
   "execution_count": 15,
   "metadata": {},
   "outputs": [
    {
     "data": {
      "text/plain": [
       "[KMeans(n_clusters=4, random_state=1234),\n",
       " SpectralClustering(assign_labels='discretize', gamma=1, n_clusters=4,\n",
       "                    random_state=1234),\n",
       " AgglomerativeClustering(linkage='single', n_clusters=4),\n",
       " Birch(n_clusters=4)]"
      ]
     },
     "execution_count": 15,
     "metadata": {},
     "output_type": "execute_result"
    }
   ],
   "source": [
    "clustering_estimators"
   ]
  },
  {
   "cell_type": "code",
   "execution_count": 16,
   "metadata": {},
   "outputs": [
    {
     "ename": "IndentationError",
     "evalue": "expected an indented block (2473809783.py, line 7)",
     "output_type": "error",
     "traceback": [
      "\u001b[0;36m  File \u001b[0;32m\"/tmp/ipykernel_24302/2473809783.py\"\u001b[0;36m, line \u001b[0;32m7\u001b[0m\n\u001b[0;31m    print(estimator.__class__.__name__, f(true_values, estimator.labels_))\u001b[0m\n\u001b[0m    ^\u001b[0m\n\u001b[0;31mIndentationError\u001b[0m\u001b[0;31m:\u001b[0m expected an indented block\n"
     ]
    }
   ],
   "source": [
    "from sklearn.metrics import rand_score, adjusted_rand_score, homogeneity_score, completeness_score\n",
    "\n",
    "true_values = df[\"Classes\"]\n",
    "f = completeness_score\n",
    "for estimator in clustering_estimators:\n",
    "\n",
    "    print(estimator.__class__.__name__, f(true_values, estimator.labels_))"
   ]
  },
  {
   "cell_type": "code",
   "execution_count": null,
   "metadata": {},
   "outputs": [],
   "source": [
    "truth = [0,0,1,1,2,2,2]\n",
    "labelling = [0,0,0,0,1,1,1]\n",
    "print(\"homogeneity: {}\".format(homogeneity_score(truth, labelling )))\n",
    "print(\"completeness {}\".format(completeness_score(truth, labelling)))"
   ]
  },
  {
   "cell_type": "code",
   "execution_count": null,
   "metadata": {},
   "outputs": [],
   "source": [
    "estimator = find_best_estimator(clustering_estimators, homogeneity_score, y)\n",
    "print(\"The best estimato is {}\".format(estimator))"
   ]
  },
  {
   "cell_type": "code",
   "execution_count": null,
   "metadata": {},
   "outputs": [],
   "source": [
    "print(estimator.__class__.__name__,recursive_best_completeness([], list(range(4)), estimator.labels_, y))"
   ]
  },
  {
   "cell_type": "code",
   "execution_count": null,
   "metadata": {},
   "outputs": [],
   "source": [
    "np.unique(estimator.labels_)"
   ]
  },
  {
   "cell_type": "code",
   "execution_count": null,
   "metadata": {},
   "outputs": [],
   "source": [
    "el = estimator.labels_"
   ]
  },
  {
   "cell_type": "code",
   "execution_count": null,
   "metadata": {},
   "outputs": [],
   "source": [
    "el = list(el)\n",
    "el[(el==1) or (el == 3)] = 0"
   ]
  },
  {
   "cell_type": "code",
   "execution_count": null,
   "metadata": {},
   "outputs": [],
   "source": [
    "a = [1,2,3]\n",
    "a[True]"
   ]
  },
  {
   "cell_type": "code",
   "execution_count": null,
   "metadata": {},
   "outputs": [],
   "source": [
    "import math\n",
    "heigth = math.log(8,2)\n",
    "n_regressors = 2**heigth -1\n",
    "print(n_regressors)"
   ]
  },
  {
   "cell_type": "code",
   "execution_count": null,
   "metadata": {},
   "outputs": [],
   "source": []
  }
 ],
 "metadata": {
  "kernelspec": {
   "display_name": "decision_trees",
   "language": "python",
   "name": "decision_trees"
  },
  "language_info": {
   "codemirror_mode": {
    "name": "ipython",
    "version": 3
   },
   "file_extension": ".py",
   "mimetype": "text/x-python",
   "name": "python",
   "nbconvert_exporter": "python",
   "pygments_lexer": "ipython3",
   "version": "3.9.7"
  }
 },
 "nbformat": 4,
 "nbformat_minor": 1
}
