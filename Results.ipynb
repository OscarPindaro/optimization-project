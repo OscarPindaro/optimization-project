{
 "cells": [
  {
   "cell_type": "markdown",
   "id": "a6609937",
   "metadata": {},
   "source": [
    "# Results visualization"
   ]
  },
  {
   "cell_type": "code",
   "execution_count": 128,
   "id": "0a9046c3",
   "metadata": {},
   "outputs": [],
   "source": [
    "import pandas as pd\n",
    "import numpy as np\n",
    "import os\n"
   ]
  },
  {
   "cell_type": "code",
   "execution_count": 129,
   "id": "bcb13b8e",
   "metadata": {},
   "outputs": [
    {
     "name": "stdout",
     "output_type": "stream",
     "text": [
      "car_final.csv     iris_sorct.csv           seeds_data_results.csv\r\n",
      "car_results.csv   new_thyroid_final.csv    seeds_data_sorct.csv\r\n",
      "car_sorct.csv     new_thyroid_results.csv  splice_results.csv\r\n",
      "iris_final.csv    new_thyroid_sorct.csv    splice_sorct.csv\r\n",
      "iris_results.csv  seeds_data_final.csv\r\n"
     ]
    }
   ],
   "source": [
    "ls results"
   ]
  },
  {
   "cell_type": "code",
   "execution_count": 130,
   "id": "2646e997",
   "metadata": {},
   "outputs": [
    {
     "data": {
      "text/html": [
       "<div>\n",
       "<style scoped>\n",
       "    .dataframe tbody tr th:only-of-type {\n",
       "        vertical-align: middle;\n",
       "    }\n",
       "\n",
       "    .dataframe tbody tr th {\n",
       "        vertical-align: top;\n",
       "    }\n",
       "\n",
       "    .dataframe thead th {\n",
       "        text-align: right;\n",
       "    }\n",
       "</style>\n",
       "<table border=\"1\" class=\"dataframe\">\n",
       "  <thead>\n",
       "    <tr style=\"text-align: right;\">\n",
       "      <th></th>\n",
       "      <th>Time_0</th>\n",
       "      <th>Iterations_0</th>\n",
       "      <th>Score_0</th>\n",
       "      <th>Time_1</th>\n",
       "      <th>Iterations_1</th>\n",
       "      <th>Score_1</th>\n",
       "      <th>Time_2</th>\n",
       "      <th>Iterations_2</th>\n",
       "      <th>Score_2</th>\n",
       "      <th>Time_3</th>\n",
       "      <th>Iterations_3</th>\n",
       "      <th>Score_3</th>\n",
       "      <th>Time_4</th>\n",
       "      <th>Iterations_4</th>\n",
       "      <th>Score_4</th>\n",
       "    </tr>\n",
       "  </thead>\n",
       "  <tbody>\n",
       "    <tr>\n",
       "      <th>SORCT</th>\n",
       "      <td>4.531772</td>\n",
       "      <td>312.0</td>\n",
       "      <td>1.0</td>\n",
       "      <td>12.937899</td>\n",
       "      <td>810.0</td>\n",
       "      <td>0.966667</td>\n",
       "      <td>9.507198</td>\n",
       "      <td>539.0</td>\n",
       "      <td>0.966667</td>\n",
       "      <td>0.189414</td>\n",
       "      <td>7.0</td>\n",
       "      <td>0.266667</td>\n",
       "      <td>11.403092</td>\n",
       "      <td>828.0</td>\n",
       "      <td>0.966667</td>\n",
       "    </tr>\n",
       "  </tbody>\n",
       "</table>\n",
       "</div>"
      ],
      "text/plain": [
       "         Time_0  Iterations_0  Score_0     Time_1  Iterations_1   Score_1  \\\n",
       "SORCT  4.531772         312.0      1.0  12.937899         810.0  0.966667   \n",
       "\n",
       "         Time_2  Iterations_2   Score_2    Time_3  Iterations_3   Score_3  \\\n",
       "SORCT  9.507198         539.0  0.966667  0.189414           7.0  0.266667   \n",
       "\n",
       "          Time_4  Iterations_4   Score_4  \n",
       "SORCT  11.403092         828.0  0.966667  "
      ]
     },
     "execution_count": 130,
     "metadata": {},
     "output_type": "execute_result"
    }
   ],
   "source": [
    "res_path = \"results\"\n",
    "names = [\"car\", \"iris\", \"seeds_data\", \"new_thyroid\", \"splice\"]\n",
    "path = os.path.join(res_path, \"{}_results.csv\".format(name))\n",
    "df = pd.read_csv(path, sep=\" \", index_col=0)\n",
    "rob = pd.read_csv(\"results/iris_sorct.csv\", sep=\" \", index_col=0)\n",
    "rob"
   ]
  },
  {
   "cell_type": "code",
   "execution_count": 131,
   "id": "9a386162",
   "metadata": {},
   "outputs": [
    {
     "name": "stdout",
     "output_type": "stream",
     "text": [
      "-3.0\n",
      "-1.0\n",
      "-3.0\n",
      "-3.0\n"
     ]
    }
   ],
   "source": [
    "IGNORE_HLR_TIME = True\n",
    "N_FOLDS = 5\n",
    "dfs = []\n",
    "for file_index in range(len(names)):\n",
    "    name = names[file_index]\n",
    "    path = os.path.join(res_path, \"{}_results.csv\".format(name))\n",
    "    df = pd.read_csv(path, sep=\" \", index_col=0)\n",
    "    sorct_df = pd.read_csv(os.path.join(res_path,\"{}_sorct.csv\".format(name)), sep=\" \", index_col=0)\n",
    "    if -1 in df or -2 in df or -3 in df:\n",
    "        print(\"Some folds were not computed\")\n",
    "    res_index = df.index\n",
    "    res_index = res_index.append(sorct_df.index)\n",
    "    result_df = pd.DataFrame(index=res_index)\n",
    "    \n",
    "    \n",
    "    for cl_name in res_index:\n",
    "        \n",
    "        \n",
    "        n_invalid = 0\n",
    "        n_invalid_sorct = 0\n",
    "        time = 0\n",
    "        hlr_time = 0\n",
    "        iters = 0\n",
    "        hlr_score = 0\n",
    "        sorct_score = 0\n",
    "        hs = 0\n",
    "        cp = 0\n",
    "        # sorct no init values\n",
    "        no_init_time = 0\n",
    "        no_init_iters = 0\n",
    "        no_init_score = 0\n",
    "        for fold_index in range(N_FOLDS):\n",
    "            if cl_name != \"SORCT\":\n",
    "                if df.loc[cl_name,\"Time_{}\".format(fold_index)] < 0:\n",
    "                    n_invalid += 1\n",
    "                    print(df.loc[cl_name,\"Time_{}\".format(fold_index)])\n",
    "                else:\n",
    "                    time += df.loc[cl_name,\"Time_{}\".format(fold_index)]\n",
    "                    if not IGNORE_HLR_TIME:\n",
    "                        hlr_time += df.loc[cl_name, \"HLR_Time_{}\".format(fold_index)]\n",
    "                    iters += df.loc[cl_name, \"Iterations_{}\".format(fold_index)]\n",
    "                    hlr_score += df.loc[cl_name, \"HLR_Score_{}\".format(fold_index)]\n",
    "                    sorct_score += df.loc[cl_name, \"SORCT_Score_{}\".format(fold_index)]\n",
    "                    hs += df.loc[cl_name, \"Homogeneity_{}\".format(fold_index)]\n",
    "                    cp += df.loc[cl_name, \"Completeness_{}\".format(fold_index)]\n",
    "            # else sorct no init\n",
    "            else:\n",
    "                if  sorct_df.loc[\"SORCT\", \"Time_{}\".format(fold_index) ] < 0:\n",
    "                    n_invalid_sorct +=1\n",
    "                else:\n",
    "                    no_init_time += sorct_df.loc[\"SORCT\", \"Time_{}\".format(fold_index) ]\n",
    "                    no_init_iters +=  sorct_df.loc[\"SORCT\", \"Iterations_{}\".format(fold_index) ]\n",
    "                    no_init_score +=  sorct_df.loc[\"SORCT\", \"Score_{}\".format(fold_index) ]\n",
    "        if cl_name != \"SORCT\":\n",
    "            real_folds = N_FOLDS - n_invalid\n",
    "            time = time / real_folds\n",
    "            hlr_time = hlr_time / real_folds\n",
    "            iters = iters / real_folds\n",
    "            hlr_score = hlr_score / real_folds\n",
    "            sorct_score = sorct_score / real_folds\n",
    "            hs = hs / real_folds\n",
    "            cp = cp / real_folds\n",
    "            result_df.loc[cl_name, \"Time\"] = time\n",
    "            if not IGNORE_HLR_TIME:\n",
    "                result_df.loc[cl_name, \"HLR_Time\"] = hlr_time\n",
    "            result_df.loc[cl_name, \"Iterations\"] = iters\n",
    "            result_df.loc[cl_name, \"HLR_Score\"] = hlr_score\n",
    "            result_df.loc[cl_name, \"SORCT_Score\"] = sorct_score\n",
    "            result_df.loc[cl_name, \"Homogeneity\"] = hs\n",
    "            result_df.loc[cl_name, \"Completeness\"] = cp\n",
    "            result_df.loc[cl_name, \"Invalid Folds\"] = n_invalid \n",
    "        else:\n",
    "            n_folds_reals = N_FOLDS - n_invalid_sorct\n",
    "            result_df.loc[cl_name, \"Invalid Folds\"] = n_invalid_sorct \n",
    "            result_df.loc[cl_name, \"Time\"] = no_init_time / n_folds_reals\n",
    "            result_df.loc[cl_name, \"Iterations\"] = no_init_iters / n_folds_reals\n",
    "            result_df.loc[cl_name, \"SORCT_Score\"] = no_init_score / n_folds_reals\n",
    "\n",
    "    #result_df[\"Invalid Folds\"] = result_df[\"Invalid Folds\"].astype(\"int32\")\n",
    "    dfs.append(result_df)\n",
    "    result_df.to_csv(os.path.join(res_path, \"{}_final.csv\".format(name)), float_format='%.2f')\n",
    "    \n",
    "        \n",
    "    "
   ]
  },
  {
   "cell_type": "code",
   "execution_count": 132,
   "id": "92762379",
   "metadata": {},
   "outputs": [
    {
     "name": "stdout",
     "output_type": "stream",
     "text": [
      "car_final.csv     iris_sorct.csv           seeds_data_results.csv\r\n",
      "car_results.csv   new_thyroid_final.csv    seeds_data_sorct.csv\r\n",
      "car_sorct.csv     new_thyroid_results.csv  splice_final.csv\r\n",
      "iris_final.csv    new_thyroid_sorct.csv    splice_results.csv\r\n",
      "iris_results.csv  seeds_data_final.csv     splice_sorct.csv\r\n"
     ]
    }
   ],
   "source": [
    "ls results/"
   ]
  },
  {
   "cell_type": "code",
   "execution_count": 133,
   "id": "2df9d0b2",
   "metadata": {},
   "outputs": [
    {
     "data": {
      "text/html": [
       "<div>\n",
       "<style scoped>\n",
       "    .dataframe tbody tr th:only-of-type {\n",
       "        vertical-align: middle;\n",
       "    }\n",
       "\n",
       "    .dataframe tbody tr th {\n",
       "        vertical-align: top;\n",
       "    }\n",
       "\n",
       "    .dataframe thead th {\n",
       "        text-align: right;\n",
       "    }\n",
       "</style>\n",
       "<table border=\"1\" class=\"dataframe\">\n",
       "  <thead>\n",
       "    <tr style=\"text-align: right;\">\n",
       "      <th></th>\n",
       "      <th>Time</th>\n",
       "      <th>Iterations</th>\n",
       "      <th>HLR_Score</th>\n",
       "      <th>SORCT_Score</th>\n",
       "      <th>Homogeneity</th>\n",
       "      <th>Completeness</th>\n",
       "      <th>Invalid Folds</th>\n",
       "    </tr>\n",
       "  </thead>\n",
       "  <tbody>\n",
       "    <tr>\n",
       "      <th>kmeans</th>\n",
       "      <td>349.290205</td>\n",
       "      <td>241.2</td>\n",
       "      <td>0.89586</td>\n",
       "      <td>0.849453</td>\n",
       "      <td>0.319561</td>\n",
       "      <td>0.238326</td>\n",
       "      <td>0.0</td>\n",
       "    </tr>\n",
       "    <tr>\n",
       "      <th>Agglomerative_sigle</th>\n",
       "      <td>699.181333</td>\n",
       "      <td>413.2</td>\n",
       "      <td>0.89586</td>\n",
       "      <td>0.850068</td>\n",
       "      <td>0.001493</td>\n",
       "      <td>0.079618</td>\n",
       "      <td>0.0</td>\n",
       "    </tr>\n",
       "    <tr>\n",
       "      <th>birch</th>\n",
       "      <td>396.772047</td>\n",
       "      <td>243.4</td>\n",
       "      <td>0.89586</td>\n",
       "      <td>0.788624</td>\n",
       "      <td>0.213518</td>\n",
       "      <td>0.161429</td>\n",
       "      <td>0.0</td>\n",
       "    </tr>\n",
       "    <tr>\n",
       "      <th>True_labels</th>\n",
       "      <td>1282.875272</td>\n",
       "      <td>397.6</td>\n",
       "      <td>0.89586</td>\n",
       "      <td>0.840043</td>\n",
       "      <td>1.000000</td>\n",
       "      <td>1.000000</td>\n",
       "      <td>0.0</td>\n",
       "    </tr>\n",
       "    <tr>\n",
       "      <th>SORCT</th>\n",
       "      <td>466.232489</td>\n",
       "      <td>282.8</td>\n",
       "      <td>NaN</td>\n",
       "      <td>0.856978</td>\n",
       "      <td>NaN</td>\n",
       "      <td>NaN</td>\n",
       "      <td>0.0</td>\n",
       "    </tr>\n",
       "  </tbody>\n",
       "</table>\n",
       "</div>"
      ],
      "text/plain": [
       "                            Time  Iterations  HLR_Score  SORCT_Score  \\\n",
       "kmeans                349.290205       241.2    0.89586     0.849453   \n",
       "Agglomerative_sigle   699.181333       413.2    0.89586     0.850068   \n",
       "birch                 396.772047       243.4    0.89586     0.788624   \n",
       "True_labels          1282.875272       397.6    0.89586     0.840043   \n",
       "SORCT                 466.232489       282.8        NaN     0.856978   \n",
       "\n",
       "                     Homogeneity  Completeness  Invalid Folds  \n",
       "kmeans                  0.319561      0.238326            0.0  \n",
       "Agglomerative_sigle     0.001493      0.079618            0.0  \n",
       "birch                   0.213518      0.161429            0.0  \n",
       "True_labels             1.000000      1.000000            0.0  \n",
       "SORCT                        NaN           NaN            0.0  "
      ]
     },
     "execution_count": 133,
     "metadata": {},
     "output_type": "execute_result"
    }
   ],
   "source": [
    "dfs[-1]"
   ]
  },
  {
   "cell_type": "code",
   "execution_count": null,
   "id": "3f42126f",
   "metadata": {},
   "outputs": [],
   "source": []
  }
 ],
 "metadata": {
  "kernelspec": {
   "display_name": "decision_trees",
   "language": "python",
   "name": "decision_trees"
  },
  "language_info": {
   "codemirror_mode": {
    "name": "ipython",
    "version": 3
   },
   "file_extension": ".py",
   "mimetype": "text/x-python",
   "name": "python",
   "nbconvert_exporter": "python",
   "pygments_lexer": "ipython3",
   "version": "3.9.7"
  }
 },
 "nbformat": 4,
 "nbformat_minor": 5
}
