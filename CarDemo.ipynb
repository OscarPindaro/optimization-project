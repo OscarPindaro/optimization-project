{
 "cells": [
  {
   "cell_type": "markdown",
   "id": "65056311",
   "metadata": {},
   "source": [
    "# Testing Hiercal Logistic Regression\n"
   ]
  },
  {
   "cell_type": "markdown",
   "id": "afce56a2",
   "metadata": {},
   "source": [
    "## CarDataset"
   ]
  },
  {
   "cell_type": "markdown",
   "id": "0509007b",
   "metadata": {},
   "source": [
    "### Preprocessing of the Dataset"
   ]
  },
  {
   "cell_type": "code",
   "execution_count": 1,
   "id": "b782cb9d",
   "metadata": {},
   "outputs": [],
   "source": [
    "import os\n",
    "\n",
    "import numpy as np\n",
    "import pandas as pd\n",
    "from sklearn import preprocessing\n",
    "from sklearn.cluster import KMeans, SpectralClustering, AgglomerativeClustering, Birch\n",
    "from sklearn.metrics import completeness_score, homogeneity_score\n",
    "from sklearn.preprocessing import StandardScaler,MinMaxScaler\n",
    "from sklearn.model_selection import train_test_split\n",
    "import matplotlib.pyplot as plt\n",
    "\n",
    "import operator\n",
    "from pyomo.environ import *\n",
    "from pyomo.opt import SolverFactory"
   ]
  },
  {
   "cell_type": "code",
   "execution_count": 2,
   "id": "18c043b2",
   "metadata": {},
   "outputs": [
    {
     "data": {
      "text/html": [
       "<div>\n",
       "<style scoped>\n",
       "    .dataframe tbody tr th:only-of-type {\n",
       "        vertical-align: middle;\n",
       "    }\n",
       "\n",
       "    .dataframe tbody tr th {\n",
       "        vertical-align: top;\n",
       "    }\n",
       "\n",
       "    .dataframe thead th {\n",
       "        text-align: right;\n",
       "    }\n",
       "</style>\n",
       "<table border=\"1\" class=\"dataframe\">\n",
       "  <thead>\n",
       "    <tr style=\"text-align: right;\">\n",
       "      <th></th>\n",
       "      <th>buying</th>\n",
       "      <th>maint</th>\n",
       "      <th>doors</th>\n",
       "      <th>persons</th>\n",
       "      <th>lug_boot</th>\n",
       "      <th>safety</th>\n",
       "      <th>Classes</th>\n",
       "    </tr>\n",
       "  </thead>\n",
       "  <tbody>\n",
       "    <tr>\n",
       "      <th>0</th>\n",
       "      <td>3</td>\n",
       "      <td>3</td>\n",
       "      <td>2</td>\n",
       "      <td>2</td>\n",
       "      <td>0</td>\n",
       "      <td>0</td>\n",
       "      <td>unacc</td>\n",
       "    </tr>\n",
       "    <tr>\n",
       "      <th>1</th>\n",
       "      <td>3</td>\n",
       "      <td>3</td>\n",
       "      <td>2</td>\n",
       "      <td>2</td>\n",
       "      <td>0</td>\n",
       "      <td>1</td>\n",
       "      <td>unacc</td>\n",
       "    </tr>\n",
       "    <tr>\n",
       "      <th>2</th>\n",
       "      <td>3</td>\n",
       "      <td>3</td>\n",
       "      <td>2</td>\n",
       "      <td>2</td>\n",
       "      <td>0</td>\n",
       "      <td>2</td>\n",
       "      <td>unacc</td>\n",
       "    </tr>\n",
       "    <tr>\n",
       "      <th>3</th>\n",
       "      <td>3</td>\n",
       "      <td>3</td>\n",
       "      <td>2</td>\n",
       "      <td>2</td>\n",
       "      <td>1</td>\n",
       "      <td>0</td>\n",
       "      <td>unacc</td>\n",
       "    </tr>\n",
       "    <tr>\n",
       "      <th>4</th>\n",
       "      <td>3</td>\n",
       "      <td>3</td>\n",
       "      <td>2</td>\n",
       "      <td>2</td>\n",
       "      <td>1</td>\n",
       "      <td>1</td>\n",
       "      <td>unacc</td>\n",
       "    </tr>\n",
       "  </tbody>\n",
       "</table>\n",
       "</div>"
      ],
      "text/plain": [
       "   buying  maint  doors  persons  lug_boot  safety Classes\n",
       "0       3      3      2        2         0       0   unacc\n",
       "1       3      3      2        2         0       1   unacc\n",
       "2       3      3      2        2         0       2   unacc\n",
       "3       3      3      2        2         1       0   unacc\n",
       "4       3      3      2        2         1       1   unacc"
      ]
     },
     "execution_count": 2,
     "metadata": {},
     "output_type": "execute_result"
    }
   ],
   "source": [
    "SEED = 1234\n",
    "\n",
    "DATASET_PATH = os.path.join(\"datasets\", \"car.csv\")\n",
    "names = [\"buying\", \"maint\", \"doors\", \"persons\", \"lug_boot\", \"safety\", \"Classes\"]\n",
    "car = pd.read_csv(DATASET_PATH, delimiter=\";\", header=0, names=names)\n",
    "car = car.convert_dtypes()\n",
    "TARGET_INDEX = car.shape[1] - 1\n",
    "# dictionary converting ordinal categories to values\n",
    "cost_dict = {\"low\": 0, \"med\": 1, \"high\": 2, \"vhigh\": 3}\n",
    "doors_dict = {\"2\": 2, \"3\": 3, \"4\": 4, \"5more\": 5}\n",
    "persons_dict = {\"2\": 2, \"4\": 4, \"more\": 5}\n",
    "dimension_dict = {\"small\": 0, \"med\": 1, \"big\": 2}\n",
    "# buying\n",
    "car[\"buying\"] = car[\"buying\"].apply(lambda x: cost_dict[x])\n",
    "car[\"maint\"] = car[\"maint\"].apply(lambda x: cost_dict[x])\n",
    "car[\"doors\"] = car[\"doors\"].apply(lambda x: doors_dict[x])\n",
    "car[\"persons\"] = car[\"persons\"].apply(lambda x: persons_dict[x])\n",
    "car[\"lug_boot\"] = car[\"lug_boot\"].apply(lambda x: dimension_dict[x])\n",
    "car[\"safety\"] = car[\"safety\"].apply(lambda x: cost_dict[x])\n",
    "car.head(5)"
   ]
  },
  {
   "cell_type": "markdown",
   "id": "01f08142",
   "metadata": {},
   "source": [
    "Labelling the classes with integers."
   ]
  },
  {
   "cell_type": "code",
   "execution_count": 3,
   "id": "1bcbe201",
   "metadata": {},
   "outputs": [
    {
     "data": {
      "text/html": [
       "<div>\n",
       "<style scoped>\n",
       "    .dataframe tbody tr th:only-of-type {\n",
       "        vertical-align: middle;\n",
       "    }\n",
       "\n",
       "    .dataframe tbody tr th {\n",
       "        vertical-align: top;\n",
       "    }\n",
       "\n",
       "    .dataframe thead th {\n",
       "        text-align: right;\n",
       "    }\n",
       "</style>\n",
       "<table border=\"1\" class=\"dataframe\">\n",
       "  <thead>\n",
       "    <tr style=\"text-align: right;\">\n",
       "      <th></th>\n",
       "      <th>buying</th>\n",
       "      <th>maint</th>\n",
       "      <th>doors</th>\n",
       "      <th>persons</th>\n",
       "      <th>lug_boot</th>\n",
       "      <th>safety</th>\n",
       "      <th>Classes</th>\n",
       "    </tr>\n",
       "  </thead>\n",
       "  <tbody>\n",
       "    <tr>\n",
       "      <th>0</th>\n",
       "      <td>3</td>\n",
       "      <td>3</td>\n",
       "      <td>2</td>\n",
       "      <td>2</td>\n",
       "      <td>0</td>\n",
       "      <td>0</td>\n",
       "      <td>2</td>\n",
       "    </tr>\n",
       "    <tr>\n",
       "      <th>1</th>\n",
       "      <td>3</td>\n",
       "      <td>3</td>\n",
       "      <td>2</td>\n",
       "      <td>2</td>\n",
       "      <td>0</td>\n",
       "      <td>1</td>\n",
       "      <td>2</td>\n",
       "    </tr>\n",
       "    <tr>\n",
       "      <th>2</th>\n",
       "      <td>3</td>\n",
       "      <td>3</td>\n",
       "      <td>2</td>\n",
       "      <td>2</td>\n",
       "      <td>0</td>\n",
       "      <td>2</td>\n",
       "      <td>2</td>\n",
       "    </tr>\n",
       "    <tr>\n",
       "      <th>3</th>\n",
       "      <td>3</td>\n",
       "      <td>3</td>\n",
       "      <td>2</td>\n",
       "      <td>2</td>\n",
       "      <td>1</td>\n",
       "      <td>0</td>\n",
       "      <td>2</td>\n",
       "    </tr>\n",
       "    <tr>\n",
       "      <th>4</th>\n",
       "      <td>3</td>\n",
       "      <td>3</td>\n",
       "      <td>2</td>\n",
       "      <td>2</td>\n",
       "      <td>1</td>\n",
       "      <td>1</td>\n",
       "      <td>2</td>\n",
       "    </tr>\n",
       "  </tbody>\n",
       "</table>\n",
       "</div>"
      ],
      "text/plain": [
       "   buying  maint  doors  persons  lug_boot  safety  Classes\n",
       "0       3      3      2        2         0       0        2\n",
       "1       3      3      2        2         0       1        2\n",
       "2       3      3      2        2         0       2        2\n",
       "3       3      3      2        2         1       0        2\n",
       "4       3      3      2        2         1       1        2"
      ]
     },
     "execution_count": 3,
     "metadata": {},
     "output_type": "execute_result"
    }
   ],
   "source": [
    "classes_encoder = preprocessing.LabelEncoder().fit(car[\"Classes\"])\n",
    "car[\"Classes\"] = classes_encoder.transform(car[\"Classes\"])\n",
    "car.head(5)"
   ]
  },
  {
   "cell_type": "markdown",
   "id": "5f57cfb0",
   "metadata": {},
   "source": [
    "Apply last transformation to input and extract targets. Then split the dataset into training and test. Training is done with 1 fold."
   ]
  },
  {
   "cell_type": "code",
   "execution_count": 4,
   "id": "eb0be8cd",
   "metadata": {},
   "outputs": [
    {
     "data": {
      "text/html": [
       "<div>\n",
       "<style scoped>\n",
       "    .dataframe tbody tr th:only-of-type {\n",
       "        vertical-align: middle;\n",
       "    }\n",
       "\n",
       "    .dataframe tbody tr th {\n",
       "        vertical-align: top;\n",
       "    }\n",
       "\n",
       "    .dataframe thead th {\n",
       "        text-align: right;\n",
       "    }\n",
       "</style>\n",
       "<table border=\"1\" class=\"dataframe\">\n",
       "  <thead>\n",
       "    <tr style=\"text-align: right;\">\n",
       "      <th></th>\n",
       "      <th>buying</th>\n",
       "      <th>maint</th>\n",
       "      <th>doors</th>\n",
       "      <th>persons</th>\n",
       "      <th>lug_boot</th>\n",
       "      <th>safety</th>\n",
       "    </tr>\n",
       "  </thead>\n",
       "  <tbody>\n",
       "    <tr>\n",
       "      <th>1710</th>\n",
       "      <td>-1.341641</td>\n",
       "      <td>-1.341641</td>\n",
       "      <td>1.341641</td>\n",
       "      <td>0.267261</td>\n",
       "      <td>-1.224745</td>\n",
       "      <td>-1.224745</td>\n",
       "    </tr>\n",
       "  </tbody>\n",
       "</table>\n",
       "</div>"
      ],
      "text/plain": [
       "        buying     maint     doors   persons  lug_boot    safety\n",
       "1710 -1.341641 -1.341641  1.341641  0.267261 -1.224745 -1.224745"
      ]
     },
     "execution_count": 4,
     "metadata": {},
     "output_type": "execute_result"
    }
   ],
   "source": [
    "#Preprocessing: we get the columns names of features which have to be standardized\n",
    "feature_names = list(car)[0:-1]\n",
    "\n",
    "car_features = car[feature_names]\n",
    "X_std = car_features.copy()\n",
    "X_std[feature_names] = StandardScaler().fit_transform(car_features)\n",
    "y = car[\"Classes\"]\n",
    "X_train, X_test, y_train, y_test = train_test_split(X_std, y, test_size=0.25, random_state=SEED)\n",
    "df_train = pd.concat([X_train, y_train], axis=1)\n",
    "classes = y.unique().tolist()\n",
    "classes.sort() # sorted \n",
    "X_train.head(1)"
   ]
  },
  {
   "cell_type": "markdown",
   "id": "f0851a31",
   "metadata": {},
   "source": [
    "Let's visualize class distribution"
   ]
  },
  {
   "cell_type": "code",
   "execution_count": 5,
   "id": "d5bd9d47",
   "metadata": {},
   "outputs": [
    {
     "data": {
      "image/png": "[encoded data removed]",
      "text/plain": [
       "<Figure size 432x288 with 1 Axes>"
      ]
     },
     "metadata": {
      "needs_background": "light"
     },
     "output_type": "display_data"
    },
    {
     "name": "stdout",
     "output_type": "stream",
     "text": [
      "[278, 52, 916, 50]\n"
     ]
    }
   ],
   "source": [
    "vals = y_train.unique()\n",
    "vals.sort()\n",
    "heights = [len(y_train[y_train==x]) for x in vals ]\n",
    "vals = [str(x) for x in vals]\n",
    "plt.bar(vals, heights)\n",
    "plt.show()\n",
    "print(heights)"
   ]
  },
  {
   "cell_type": "markdown",
   "id": "c684245d",
   "metadata": {},
   "source": [
    "### Hierarchical Logistic Regression\n",
    "The idea is to pre-train a binary classification tree with the same strcture of the ORCT. Then, the values of the parameters are extracted an passed to the model"
   ]
  },
  {
   "cell_type": "code",
   "execution_count": 6,
   "id": "f1ec525d",
   "metadata": {},
   "outputs": [],
   "source": [
    "from src.cluster import find_best_estimator, best_leaf_assignment, HierarchicalLogisticRegression"
   ]
  },
  {
   "cell_type": "markdown",
   "id": "6e67bc18",
   "metadata": {},
   "source": [
    "First of all we need to find the best estimator. Different clustering algorithms are used. The one that maximizes **homogeneity** is the one chosen. Other metrics can be used, such as **precision**, **purity** and so on. This metrics have all in common the fact that try to maximize the similarity of the points in a cluster. In fact, **homogeneity** is the property that checks how many sample of the same cluster are in the same class."
   ]
  },
  {
   "cell_type": "code",
   "execution_count": 7,
   "id": "7b945b15",
   "metadata": {},
   "outputs": [],
   "source": [
    "occurences = [len(y_train[y_train==x]) for x in classes]\n",
    "total_samples = sum(occurences)\n",
    "sample_weight = np.zeros_like(y_train)\n",
    "for class_index, n_occurr in zip(classes, occurences):\n",
    "    sample_weight[y_train==class_index]=n_occurr\n",
    "sample_weight = sample_weight/total_samples\n",
    "    \n",
    "\n",
    "\n",
    "clustering_estimators = []\n",
    "params = dict(n_clusters=4, random_state=SEED)\n",
    "kmeans = KMeans(**params)\n",
    "clustering_estimators.append(kmeans)\n",
    "\n",
    "params = dict(n_clusters=4, random_state=SEED, assign_labels=\"discretize\", gamma=1)\n",
    "spectral = SpectralClustering(**params)\n",
    "clustering_estimators.append(spectral)\n",
    "\n",
    "params = dict(n_clusters=4, linkage=\"single\")\n",
    "agglomerate = AgglomerativeClustering(**params)\n",
    "clustering_estimators.append(agglomerate)\n",
    "\n",
    "params = dict(n_clusters=4, linkage=\"ward\")\n",
    "agglomerate = AgglomerativeClustering(**params)\n",
    "clustering_estimators.append(agglomerate)\n",
    "\n",
    "params = dict(n_clusters=4, linkage=\"complete\")\n",
    "agglomerate = AgglomerativeClustering(**params)\n",
    "clustering_estimators.append(agglomerate)\n",
    "\n",
    "params = dict(n_clusters=4, linkage=\"average\")\n",
    "agglomerate = AgglomerativeClustering(**params)\n",
    "clustering_estimators.append(agglomerate)\n",
    "\n",
    "params = dict(n_clusters=4)\n",
    "birch = Birch(**params)\n",
    "clustering_estimators.append(birch)"
   ]
  },
  {
   "cell_type": "markdown",
   "id": "4dc92ef0",
   "metadata": {},
   "source": [
    "Fit every estimator and computes their homogeneity."
   ]
  },
  {
   "cell_type": "code",
   "execution_count": 8,
   "id": "693d3db3",
   "metadata": {},
   "outputs": [
    {
     "name": "stdout",
     "output_type": "stream",
     "text": [
      "KMeans 0.11250442759726538\n",
      "SpectralClustering 0.25519657855590033\n",
      "AgglomerativeClustering 0.17317075945277882\n",
      "AgglomerativeClustering 0.298780930041104\n",
      "AgglomerativeClustering 0.2465504369372705\n",
      "AgglomerativeClustering 0.2364953708934848\n",
      "Birch 0.25755540689535616\n",
      "The best estimator is AgglomerativeClustering(n_clusters=4)\n"
     ]
    },
    {
     "name": "stderr",
     "output_type": "stream",
     "text": [
      "/home/oscarpindaro/miniconda3/envs/decision_trees/lib/python3.9/site-packages/sklearn/base.py:445: UserWarning: X does not have valid feature names, but Birch was fitted with feature names\n",
      "  warnings.warn(\n"
     ]
    }
   ],
   "source": [
    "for i in range(len(clustering_estimators)):\n",
    "    try:\n",
    "        clustering_estimators[i] = clustering_estimators[i].fit(X_train, sample_weight=sample_weight)\n",
    "    except:\n",
    "        clustering_estimators[i] = clustering_estimators[i].fit(X_train)\n",
    "\n",
    "for estimator in clustering_estimators:\n",
    "    print(estimator.__class__.__name__, homogeneity_score(y_train, estimator.labels_))\n",
    "    \n",
    "best_estimator = find_best_estimator(clustering_estimators, homogeneity_score, y_train)\n",
    "print(\"The best estimator is {}\".format(best_estimator))"
   ]
  },
  {
   "cell_type": "markdown",
   "id": "3e224f60",
   "metadata": {},
   "source": [
    "Creation of the HLR. The number of leaves must be a power of 2. In this case, since the classes are 4, the leaves will be set to 4. This regressor also needs to know how many classes will encounter.<br> \n",
    "Since this classifier is a series of logistic regressors, is also possible to pass the parameters that will be used to inizialized every regressor.\n",
    "The clustering performed before is used to create multiple clusters that will be assigned to each leaf of the ORCT. In order to find the best assignment, an exhaustive search is done, an the best assingment is found by maximizing the **completeness score**, which measures how much the element of a class are present in the same cluster."
   ]
  },
  {
   "cell_type": "code",
   "execution_count": 9,
   "id": "1bb1e8be",
   "metadata": {},
   "outputs": [
    {
     "name": "stdout",
     "output_type": "stream",
     "text": [
      "The assignment [0, 1, 2, 3] has a score of 0.21895842148368447\n"
     ]
    }
   ],
   "source": [
    "n_leaves = 4\n",
    "HLR = HierarchicalLogisticRegression(n_classes=len(np.unique(y_train)), n_leaves=n_leaves, random_state=0,\n",
    "                                     logistic_params={\"class_weight\": \"balanced\"})\n",
    "assignment, score = best_leaf_assignment(n_leaves=n_leaves, estimated_labels=best_estimator.labels_, \n",
    "                                  true_labels=y_train, metric=completeness_score)\n",
    "print(\"The assignment {} has a score of {}\".format(assignment, score))"
   ]
  },
  {
   "cell_type": "markdown",
   "id": "cdb8cbda",
   "metadata": {},
   "source": [
    "Now it's time to fit the agent. It needs the labels estimater by the clustering and also the assignment of every clustering to each leaves. This model is also able to predict the class of a given sample and can be scored like every other sklearn classifier. <br>\n",
    "When the classifier is fit, every information about the logistic regressors is computed and is present in the attributes of the HLR"
   ]
  },
  {
   "cell_type": "code",
   "execution_count": 10,
   "id": "10ef4067",
   "metadata": {},
   "outputs": [],
   "source": [
    "HLR = HLR.fit(X_train, y_train, cluster_labels=estimator.labels_, leaves_assignment=assignment)"
   ]
  },
  {
   "cell_type": "code",
   "execution_count": 11,
   "id": "4907f74a",
   "metadata": {},
   "outputs": [
    {
     "name": "stdout",
     "output_type": "stream",
     "text": [
      "The mean accuracy is 0.6805555555555556\n"
     ]
    }
   ],
   "source": [
    "score = HLR.score(X_test.to_numpy(), y_test)\n",
    "print(\"The mean accuracy is {}\".format(score))"
   ]
  },
  {
   "cell_type": "markdown",
   "id": "35acc5c3",
   "metadata": {},
   "source": [
    "### Model definition"
   ]
  },
  {
   "cell_type": "code",
   "execution_count": 12,
   "id": "b5f6aade",
   "metadata": {},
   "outputs": [],
   "source": [
    "def B_in_NR(model, i):\n",
    "    if i==4:\n",
    "        return []\n",
    "    elif i==5:\n",
    "        return [2]\n",
    "    elif i==6:\n",
    "        return [1]\n",
    "    elif i==7:\n",
    "        return [1,3]\n",
    "def B_in_NL(model, i):\n",
    "    if i==4:\n",
    "        return [1,2]\n",
    "    elif i==5:\n",
    "        return [1]\n",
    "    elif i==6:\n",
    "        return [3]\n",
    "    elif i==7:\n",
    "        return []\n",
    "\n",
    "def I_k(model,i):\n",
    "    if i==0:\n",
    "        return I_in_k[0]\n",
    "    elif i==1:\n",
    "        return I_in_k[1]\n",
    "    elif i==2:\n",
    "        return I_in_k[2]"
   ]
  },
  {
   "cell_type": "markdown",
   "id": "90cf2e31",
   "metadata": {},
   "source": [
    "Objects useful to deal with trees (of depth 2) and their topology"
   ]
  },
  {
   "cell_type": "code",
   "execution_count": 13,
   "id": "aa682d69",
   "metadata": {},
   "outputs": [],
   "source": [
    "BF_in_NL_R = {4:[],5:[2],6:[1],7:[1,3]}\n",
    "BF_in_NL_L = {4:[1,2],5:[1],6:[3],7:[]}\n",
    "I_in_k = {i : list(df_train[df_train['Classes']== i].index) for i in range(len(classes))}\n",
    "my_W = {(i,j): 0.5 if i != j else 0 for i in classes for j in classes}\n",
    "index_instances = list(X_train.index)\n",
    "index_features = range(len(feature_names))\n",
    "my_x = {(i,j): df_train.loc[i][j] for i in index_instances for j in index_features}"
   ]
  },
  {
   "cell_type": "markdown",
   "id": "512ec24e",
   "metadata": {},
   "source": [
    "We initialize the model and the sets K, N_L, N_B, I, I_k, N_L_L, N_L_R and f_s are declared abstractly using the Set component:"
   ]
  },
  {
   "cell_type": "code",
   "execution_count": 14,
   "id": "6513133b",
   "metadata": {},
   "outputs": [
    {
     "name": "stdout",
     "output_type": "stream",
     "text": [
      "WARNING: Initializing ordered Set I with a fundamentally unordered data source\n",
      "    (type: set).  This WILL potentially lead to nondeterministic behavior in\n",
      "    Pyomo\n",
      "WARNING: Initializing ordered Set N_B with a fundamentally unordered data\n",
      "    source (type: set).  This WILL potentially lead to nondeterministic\n",
      "    behavior in Pyomo\n"
     ]
    }
   ],
   "source": [
    "model = ConcreteModel() #ConcretModel()\n",
    "# Instances & Classes\n",
    "# Assume a dict I_in_k, with keys k and values of a list of I's in that k\n",
    "\n",
    "model.I = Set(initialize=set(i for k in I_in_k for i in I_in_k[k]))\n",
    "model.K = Set(initialize=I_in_k.keys())\n",
    "model.I_k = Set(model.K,initialize=I_in_k)  # <----- questa linea la ho cambiata se no non mi funzionava\n",
    "\n",
    "# Features\n",
    "model.f_s =Set(initialize=index_features)\n",
    "\n",
    "# Nodes Leaf N_L & Nodes Breanch N_B\n",
    "model.N_B = Set(initialize=set(i for k in BF_in_NL_R for i in BF_in_NL_R[k]))\n",
    "model.N_L = Set(initialize=BF_in_NL_R.keys())\n",
    "model.N_L_R = Set(model.N_L,initialize=B_in_NR)\n",
    "model.N_L_L = Set(model.N_L,initialize=B_in_NL)"
   ]
  },
  {
   "cell_type": "code",
   "execution_count": 15,
   "id": "28ed5b5d",
   "metadata": {},
   "outputs": [
    {
     "name": "stdout",
     "output_type": "stream",
     "text": [
      "ERROR: Rule failed for Param 'x' with index (1710, 0): ValueError: Invalid\n",
      "    parameter value: x[(1710, 0)] = '-1.3416407864998738', value type=<class\n",
      "    'numpy.float64'>.\n",
      "    \tValue not in parameter domain NonNegativeReals\n",
      "ERROR: Constructing component 'x' from data=None failed: ValueError: Invalid\n",
      "    parameter value: x[(1710, 0)] = '-1.3416407864998738', value type=<class\n",
      "    'numpy.float64'>.\n",
      "    \tValue not in parameter domain NonNegativeReals\n"
     ]
    },
    {
     "ename": "ValueError",
     "evalue": "Invalid parameter value: x[(1710, 0)] = '-1.3416407864998738', value type=<class 'numpy.float64'>.\n\tValue not in parameter domain NonNegativeReals",
     "output_type": "error",
     "traceback": [
      "\u001b[0;31m---------------------------------------------------------------------------\u001b[0m",
      "\u001b[0;31mValueError\u001b[0m                                Traceback (most recent call last)",
      "\u001b[0;32m/tmp/ipykernel_25103/3598288933.py\u001b[0m in \u001b[0;36m<module>\u001b[0;34m\u001b[0m\n\u001b[1;32m      3\u001b[0m \u001b[0;34m\u001b[0m\u001b[0m\n\u001b[1;32m      4\u001b[0m \u001b[0;31m# Value for the instance i-th of the feature j-th\u001b[0m\u001b[0;34m\u001b[0m\u001b[0;34m\u001b[0m\u001b[0m\n\u001b[0;32m----> 5\u001b[0;31m \u001b[0mmodel\u001b[0m\u001b[0;34m.\u001b[0m\u001b[0mx\u001b[0m \u001b[0;34m=\u001b[0m \u001b[0mParam\u001b[0m\u001b[0;34m(\u001b[0m\u001b[0mmodel\u001b[0m\u001b[0;34m.\u001b[0m\u001b[0mI\u001b[0m\u001b[0;34m,\u001b[0m \u001b[0mmodel\u001b[0m\u001b[0;34m.\u001b[0m\u001b[0mf_s\u001b[0m\u001b[0;34m,\u001b[0m \u001b[0mwithin\u001b[0m\u001b[0;34m=\u001b[0m\u001b[0mNonNegativeReals\u001b[0m\u001b[0;34m,\u001b[0m \u001b[0minitialize\u001b[0m\u001b[0;34m=\u001b[0m\u001b[0mmy_x\u001b[0m\u001b[0;34m)\u001b[0m \u001b[0;31m# <--- ho dovuto pure modificare questa linea\u001b[0m\u001b[0;34m\u001b[0m\u001b[0;34m\u001b[0m\u001b[0m\n\u001b[0m",
      "\u001b[0;32m~/miniconda3/envs/decision_trees/lib/python3.9/site-packages/pyomo/core/base/block.py\u001b[0m in \u001b[0;36m__setattr__\u001b[0;34m(self, name, val)\u001b[0m\n\u001b[1;32m    539\u001b[0m                 \u001b[0;31m# Pyomo components are added with the add_component method.\u001b[0m\u001b[0;34m\u001b[0m\u001b[0;34m\u001b[0m\u001b[0m\n\u001b[1;32m    540\u001b[0m                 \u001b[0;31m#\u001b[0m\u001b[0;34m\u001b[0m\u001b[0;34m\u001b[0m\u001b[0m\n\u001b[0;32m--> 541\u001b[0;31m                 \u001b[0mself\u001b[0m\u001b[0;34m.\u001b[0m\u001b[0madd_component\u001b[0m\u001b[0;34m(\u001b[0m\u001b[0mname\u001b[0m\u001b[0;34m,\u001b[0m \u001b[0mval\u001b[0m\u001b[0;34m)\u001b[0m\u001b[0;34m\u001b[0m\u001b[0;34m\u001b[0m\u001b[0m\n\u001b[0m\u001b[1;32m    542\u001b[0m             \u001b[0;32melse\u001b[0m\u001b[0;34m:\u001b[0m\u001b[0;34m\u001b[0m\u001b[0;34m\u001b[0m\u001b[0m\n\u001b[1;32m    543\u001b[0m                 \u001b[0;31m#\u001b[0m\u001b[0;34m\u001b[0m\u001b[0;34m\u001b[0m\u001b[0m\n",
      "\u001b[0;32m~/miniconda3/envs/decision_trees/lib/python3.9/site-packages/pyomo/core/base/block.py\u001b[0m in \u001b[0;36madd_component\u001b[0;34m(self, name, val)\u001b[0m\n\u001b[1;32m   1101\u001b[0m                              _blockName, str(data))\n\u001b[1;32m   1102\u001b[0m             \u001b[0;32mtry\u001b[0m\u001b[0;34m:\u001b[0m\u001b[0;34m\u001b[0m\u001b[0;34m\u001b[0m\u001b[0m\n\u001b[0;32m-> 1103\u001b[0;31m                 \u001b[0mval\u001b[0m\u001b[0;34m.\u001b[0m\u001b[0mconstruct\u001b[0m\u001b[0;34m(\u001b[0m\u001b[0mdata\u001b[0m\u001b[0;34m)\u001b[0m\u001b[0;34m\u001b[0m\u001b[0;34m\u001b[0m\u001b[0m\n\u001b[0m\u001b[1;32m   1104\u001b[0m             \u001b[0;32mexcept\u001b[0m\u001b[0;34m:\u001b[0m\u001b[0;34m\u001b[0m\u001b[0;34m\u001b[0m\u001b[0m\n\u001b[1;32m   1105\u001b[0m                 \u001b[0merr\u001b[0m \u001b[0;34m=\u001b[0m \u001b[0msys\u001b[0m\u001b[0;34m.\u001b[0m\u001b[0mexc_info\u001b[0m\u001b[0;34m(\u001b[0m\u001b[0;34m)\u001b[0m\u001b[0;34m[\u001b[0m\u001b[0;36m1\u001b[0m\u001b[0;34m]\u001b[0m\u001b[0;34m\u001b[0m\u001b[0;34m\u001b[0m\u001b[0m\n",
      "\u001b[0;32m~/miniconda3/envs/decision_trees/lib/python3.9/site-packages/pyomo/core/base/param.py\u001b[0m in \u001b[0;36mconstruct\u001b[0;34m(self, data)\u001b[0m\n\u001b[1;32m    729\u001b[0m             \u001b[0;31m# Step #1: initialize data from rule value\u001b[0m\u001b[0;34m\u001b[0m\u001b[0;34m\u001b[0m\u001b[0m\n\u001b[1;32m    730\u001b[0m             \u001b[0;31m#\u001b[0m\u001b[0;34m\u001b[0m\u001b[0;34m\u001b[0m\u001b[0m\n\u001b[0;32m--> 731\u001b[0;31m             \u001b[0mself\u001b[0m\u001b[0;34m.\u001b[0m\u001b[0m_construct_from_rule_using_setitem\u001b[0m\u001b[0;34m(\u001b[0m\u001b[0;34m)\u001b[0m\u001b[0;34m\u001b[0m\u001b[0;34m\u001b[0m\u001b[0m\n\u001b[0m\u001b[1;32m    732\u001b[0m             \u001b[0;31m#\u001b[0m\u001b[0;34m\u001b[0m\u001b[0;34m\u001b[0m\u001b[0m\n\u001b[1;32m    733\u001b[0m             \u001b[0;31m# Step #2: allow any user-specified (external) data to override\u001b[0m\u001b[0;34m\u001b[0m\u001b[0;34m\u001b[0m\u001b[0m\n",
      "\u001b[0;32m~/miniconda3/envs/decision_trees/lib/python3.9/site-packages/pyomo/core/base/indexed_component.py\u001b[0m in \u001b[0;36m_construct_from_rule_using_setitem\u001b[0;34m(self)\u001b[0m\n\u001b[1;32m    692\u001b[0m                 \u001b[0;31m# The index is coming in externally; we need to validate it\u001b[0m\u001b[0;34m\u001b[0m\u001b[0;34m\u001b[0m\u001b[0m\n\u001b[1;32m    693\u001b[0m                 \u001b[0;32mfor\u001b[0m \u001b[0mindex\u001b[0m \u001b[0;32min\u001b[0m \u001b[0mrule\u001b[0m\u001b[0;34m.\u001b[0m\u001b[0mindices\u001b[0m\u001b[0;34m(\u001b[0m\u001b[0;34m)\u001b[0m\u001b[0;34m:\u001b[0m\u001b[0;34m\u001b[0m\u001b[0;34m\u001b[0m\u001b[0m\n\u001b[0;32m--> 694\u001b[0;31m                     \u001b[0mself\u001b[0m\u001b[0;34m[\u001b[0m\u001b[0mindex\u001b[0m\u001b[0;34m]\u001b[0m \u001b[0;34m=\u001b[0m \u001b[0mrule\u001b[0m\u001b[0;34m(\u001b[0m\u001b[0mblock\u001b[0m\u001b[0;34m,\u001b[0m \u001b[0mindex\u001b[0m\u001b[0;34m)\u001b[0m\u001b[0;34m\u001b[0m\u001b[0;34m\u001b[0m\u001b[0m\n\u001b[0m\u001b[1;32m    695\u001b[0m             \u001b[0;32melif\u001b[0m \u001b[0;32mnot\u001b[0m \u001b[0mself\u001b[0m\u001b[0;34m.\u001b[0m\u001b[0mindex_set\u001b[0m\u001b[0;34m(\u001b[0m\u001b[0;34m)\u001b[0m\u001b[0;34m.\u001b[0m\u001b[0misfinite\u001b[0m\u001b[0;34m(\u001b[0m\u001b[0;34m)\u001b[0m\u001b[0;34m:\u001b[0m\u001b[0;34m\u001b[0m\u001b[0;34m\u001b[0m\u001b[0m\n\u001b[1;32m    696\u001b[0m                 \u001b[0;31m# If the index is not finite, then we cannot iterate\u001b[0m\u001b[0;34m\u001b[0m\u001b[0;34m\u001b[0m\u001b[0m\n",
      "\u001b[0;32m~/miniconda3/envs/decision_trees/lib/python3.9/site-packages/pyomo/core/base/indexed_component.py\u001b[0m in \u001b[0;36m__setitem__\u001b[0;34m(self, index, val)\u001b[0m\n\u001b[1;32m    621\u001b[0m             \u001b[0mobj\u001b[0m \u001b[0;34m=\u001b[0m \u001b[0mself\u001b[0m\u001b[0;34m.\u001b[0m\u001b[0m_data\u001b[0m\u001b[0;34m.\u001b[0m\u001b[0mget\u001b[0m\u001b[0;34m(\u001b[0m\u001b[0mindex\u001b[0m\u001b[0;34m,\u001b[0m \u001b[0m_NotFound\u001b[0m\u001b[0;34m)\u001b[0m\u001b[0;34m\u001b[0m\u001b[0;34m\u001b[0m\u001b[0m\n\u001b[1;32m    622\u001b[0m             \u001b[0;32mif\u001b[0m \u001b[0mobj\u001b[0m \u001b[0;32mis\u001b[0m \u001b[0m_NotFound\u001b[0m\u001b[0;34m:\u001b[0m\u001b[0;34m\u001b[0m\u001b[0;34m\u001b[0m\u001b[0m\n\u001b[0;32m--> 623\u001b[0;31m                 \u001b[0;32mreturn\u001b[0m \u001b[0mself\u001b[0m\u001b[0;34m.\u001b[0m\u001b[0m_setitem_when_not_present\u001b[0m\u001b[0;34m(\u001b[0m\u001b[0mindex\u001b[0m\u001b[0;34m,\u001b[0m \u001b[0mval\u001b[0m\u001b[0;34m)\u001b[0m\u001b[0;34m\u001b[0m\u001b[0;34m\u001b[0m\u001b[0m\n\u001b[0m\u001b[1;32m    624\u001b[0m             \u001b[0;32melse\u001b[0m\u001b[0;34m:\u001b[0m\u001b[0;34m\u001b[0m\u001b[0;34m\u001b[0m\u001b[0m\n\u001b[1;32m    625\u001b[0m                 \u001b[0;32mreturn\u001b[0m \u001b[0mself\u001b[0m\u001b[0;34m.\u001b[0m\u001b[0m_setitem_impl\u001b[0m\u001b[0;34m(\u001b[0m\u001b[0mindex\u001b[0m\u001b[0;34m,\u001b[0m \u001b[0mobj\u001b[0m\u001b[0;34m,\u001b[0m \u001b[0mval\u001b[0m\u001b[0;34m)\u001b[0m\u001b[0;34m\u001b[0m\u001b[0;34m\u001b[0m\u001b[0m\n",
      "\u001b[0;32m~/miniconda3/envs/decision_trees/lib/python3.9/site-packages/pyomo/core/base/param.py\u001b[0m in \u001b[0;36m_setitem_when_not_present\u001b[0;34m(self, index, value, _check_domain)\u001b[0m\n\u001b[1;32m    656\u001b[0m                 \u001b[0;31m# Because we do not have a _ParamData, we cannot rely on the\u001b[0m\u001b[0;34m\u001b[0m\u001b[0;34m\u001b[0m\u001b[0m\n\u001b[1;32m    657\u001b[0m                 \u001b[0;31m# validation that occurs in _ParamData.set_value()\u001b[0m\u001b[0;34m\u001b[0m\u001b[0;34m\u001b[0m\u001b[0m\n\u001b[0;32m--> 658\u001b[0;31m                 \u001b[0mself\u001b[0m\u001b[0;34m.\u001b[0m\u001b[0m_validate_value\u001b[0m\u001b[0;34m(\u001b[0m\u001b[0mindex\u001b[0m\u001b[0;34m,\u001b[0m \u001b[0mvalue\u001b[0m\u001b[0;34m,\u001b[0m \u001b[0m_check_domain\u001b[0m\u001b[0;34m)\u001b[0m\u001b[0;34m\u001b[0m\u001b[0;34m\u001b[0m\u001b[0m\n\u001b[0m\u001b[1;32m    659\u001b[0m                 \u001b[0;32mreturn\u001b[0m \u001b[0mvalue\u001b[0m\u001b[0;34m\u001b[0m\u001b[0;34m\u001b[0m\u001b[0m\n\u001b[1;32m    660\u001b[0m         \u001b[0;32mexcept\u001b[0m\u001b[0;34m:\u001b[0m\u001b[0;34m\u001b[0m\u001b[0;34m\u001b[0m\u001b[0m\n",
      "\u001b[0;32m~/miniconda3/envs/decision_trees/lib/python3.9/site-packages/pyomo/core/base/param.py\u001b[0m in \u001b[0;36m_validate_value\u001b[0;34m(self, index, value, validate_domain, data)\u001b[0m\n\u001b[1;32m    673\u001b[0m             \u001b[0;32mif\u001b[0m \u001b[0mindex\u001b[0m \u001b[0;32mis\u001b[0m \u001b[0mNOTSET\u001b[0m\u001b[0;34m:\u001b[0m\u001b[0;34m\u001b[0m\u001b[0;34m\u001b[0m\u001b[0m\n\u001b[1;32m    674\u001b[0m                 \u001b[0mindex\u001b[0m \u001b[0;34m=\u001b[0m \u001b[0mdata\u001b[0m\u001b[0;34m.\u001b[0m\u001b[0mindex\u001b[0m\u001b[0;34m(\u001b[0m\u001b[0;34m)\u001b[0m\u001b[0;34m\u001b[0m\u001b[0;34m\u001b[0m\u001b[0m\n\u001b[0;32m--> 675\u001b[0;31m             raise ValueError(\n\u001b[0m\u001b[1;32m    676\u001b[0m                 \u001b[0;34m\"Invalid parameter value: %s[%s] = '%s', value type=%s.\\n\"\u001b[0m\u001b[0;34m\u001b[0m\u001b[0;34m\u001b[0m\u001b[0m\n\u001b[1;32m    677\u001b[0m                 \u001b[0;34m\"\\tValue not in parameter domain %s\"\u001b[0m \u001b[0;34m%\u001b[0m\u001b[0;34m\u001b[0m\u001b[0;34m\u001b[0m\u001b[0m\n",
      "\u001b[0;31mValueError\u001b[0m: Invalid parameter value: x[(1710, 0)] = '-1.3416407864998738', value type=<class 'numpy.float64'>.\n\tValue not in parameter domain NonNegativeReals"
     ]
    }
   ],
   "source": [
    "# Cost of misclassification\n",
    "model.W = Param(model.K, model.K, within=NonNegativeReals, initialize=my_W)\n",
    "\n",
    "# Value for the instance i-th of the feature j-th\n",
    "model.x = Param(model.I, model.f_s, within=NonNegativeReals, initialize=my_x) # <--- ho dovuto pure modificare questa linea"
   ]
  },
  {
   "cell_type": "markdown",
   "id": "12c6f796",
   "metadata": {},
   "source": [
    "The __Var__ component is used to define the decision variables. No longer a random init is done, but the fitted parameters are assigned."
   ]
  },
  {
   "cell_type": "code",
   "execution_count": null,
   "id": "fec94652",
   "metadata": {},
   "outputs": [],
   "source": [
    "#random initialization\n",
    "\n",
    "init_a = np.random.uniform(low=-1.0, high=1.0, size=None)\n",
    "init_mu = np.random.uniform(low=-1.0, high=1.0, size=None)\n",
    "init_C = np.random.uniform(low=0.0, high=1.0, size=None)\n",
    "init_P = np.random.uniform(low=0.0, high=1.0, size=None)\n",
    "init_p = np.random.uniform(low=0.0, high=1.0, size=None)\n",
    "\n",
    "\n",
    "# The weigths of feature j-th in breanch node t-th\n",
    "model.a = Var(model.f_s, model.N_B, within=Reals, bounds = (-1.0,1.0),initialize=init_a)\n",
    "\n",
    "# The intercepts of the linear combinations correspond to decision variables\n",
    "model.mu = Var(model.N_B, within = Reals, bounds = (-1.0,1.0),initialize=init_mu)\n",
    "\n",
    "# The variables thtat take into account if node t is labeled with class k\n",
    "model.C = Var(model.K, model.N_L, within = PercentFraction,initialize=init_C)\n",
    "\n",
    "# An auxiliary variables\n",
    "model.P = Var(model.I,model.N_L,within = PercentFraction,initialize=init_P)\n",
    "model.p = Var(model.I,model.N_B,within = PercentFraction,initialize=init_p)"
   ]
  },
  {
   "cell_type": "code",
   "execution_count": null,
   "id": "166c5f55",
   "metadata": {},
   "outputs": [],
   "source": [
    "init_p"
   ]
  },
  {
   "cell_type": "code",
   "execution_count": null,
   "id": "6c026b3a",
   "metadata": {},
   "outputs": [],
   "source": []
  }
 ],
 "metadata": {
  "kernelspec": {
   "display_name": "decision_trees",
   "language": "python",
   "name": "decision_trees"
  },
  "language_info": {
   "codemirror_mode": {
    "name": "ipython",
    "version": 3
   },
   "file_extension": ".py",
   "mimetype": "text/x-python",
   "name": "python",
   "nbconvert_exporter": "python",
   "pygments_lexer": "ipython3",
   "version": "3.9.7"
  }
 },
 "nbformat": 4,
 "nbformat_minor": 5
}
